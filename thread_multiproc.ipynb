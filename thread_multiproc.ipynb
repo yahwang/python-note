{
 "cells": [
  {
   "cell_type": "code",
   "execution_count": 90,
   "metadata": {},
   "outputs": [],
   "source": [
    "import threading\n",
    "import time"
   ]
  },
  {
   "cell_type": "code",
   "execution_count": 97,
   "metadata": {},
   "outputs": [],
   "source": [
    "def calc(num_list):\n",
    "    for i in range(100,200):\n",
    "        num_list.append(i)\n",
    "\n",
    "def add(res, num):\n",
    "    start = time.time()\n",
    "    print(\"start :\", start)\n",
    "    for i in range(num):\n",
    "        res +=i\n",
    "    print(\"total : \", time.time() - start)\n",
    "\n",
    "def sub(res, num):\n",
    "    start = time.time()\n",
    "    print(\"start :\", start)\n",
    "    for i in range(num):\n",
    "        res -=i \n",
    "    print(\"total : \", time.time() - start)"
   ]
  },
  {
   "cell_type": "markdown",
   "metadata": {},
   "source": [
    "args : tuple 타입 ( parameter가 1개라면 (,) 형태를 사용해야 한다. )"
   ]
  },
  {
   "cell_type": "code",
   "execution_count": 101,
   "metadata": {},
   "outputs": [],
   "source": [
    "num_list = [1,2,3]\n",
    "thread = threading.Thread(target=calc, args=(num_list,))"
   ]
  },
  {
   "cell_type": "code",
   "execution_count": 102,
   "metadata": {},
   "outputs": [],
   "source": [
    "thread.start()"
   ]
  },
  {
   "cell_type": "markdown",
   "metadata": {},
   "source": [
    "#### daemon thread\n",
    "\n",
    "메인 thread가 종료되면 같이 종료되는 thread (일반적인 thread는 메인 thread가 종료되어도 작업이 끝날때까지 수행한다.)"
   ]
  },
  {
   "cell_type": "code",
   "execution_count": 92,
   "metadata": {},
   "outputs": [],
   "source": [
    "thread1 = threading.Thread(target=add, args=(0, 10000))\n",
    "thread1.daemon=True # daemon thread 설정\n",
    "thread2 = threading.Thread(target=sub, args=(1000, 10000))\n",
    "thread2.daemon=True"
   ]
  },
  {
   "cell_type": "code",
   "execution_count": 93,
   "metadata": {},
   "outputs": [
    {
     "name": "stdout",
     "output_type": "stream",
     "text": [
      "start : 1534820627.8641362\n",
      "total :  0.0013988018035888672\n",
      "start : 1534820627.8665369\n",
      "total :  0.0014197826385498047\n"
     ]
    }
   ],
   "source": [
    "thread2.start()\n",
    "thread1.start()\n",
    "thread1.join()\n",
    "thread2.join()"
   ]
  },
  {
   "cell_type": "code",
   "execution_count": null,
   "metadata": {},
   "outputs": [],
   "source": []
  },
  {
   "cell_type": "markdown",
   "metadata": {},
   "source": [
    "### multiprocessing"
   ]
  },
  {
   "cell_type": "markdown",
   "metadata": {},
   "source": [
    "같은 함수를 병렬처리에 유용"
   ]
  },
  {
   "cell_type": "code",
   "execution_count": null,
   "metadata": {},
   "outputs": [],
   "source": []
  }
 ],
 "metadata": {
  "kernelspec": {
   "display_name": "Python 3",
   "language": "python",
   "name": "python3"
  },
  "language_info": {
   "codemirror_mode": {
    "name": "ipython",
    "version": 3
   },
   "file_extension": ".py",
   "mimetype": "text/x-python",
   "name": "python",
   "nbconvert_exporter": "python",
   "pygments_lexer": "ipython3",
   "version": "3.6.6"
  }
 },
 "nbformat": 4,
 "nbformat_minor": 2
}
