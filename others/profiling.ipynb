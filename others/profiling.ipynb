{
 "cells": [
  {
   "cell_type": "markdown",
   "metadata": {},
   "source": [
    "참고 : https://jakevdp.github.io/PythonDataScienceHandbook/01.07-timing-and-profiling.html"
   ]
  },
  {
   "cell_type": "markdown",
   "metadata": {},
   "source": [
    "## Time Profiling - 코드 실행 시간 체크"
   ]
  },
  {
   "cell_type": "markdown",
   "metadata": {},
   "source": [
    "#### %%time - 셀 안에 입력한 모든 코드 실행시간 계산"
   ]
  },
  {
   "cell_type": "code",
   "execution_count": 1,
   "metadata": {},
   "outputs": [
    {
     "name": "stdout",
     "output_type": "stream",
     "text": [
      "CPU times: user 385 ms, sys: 0 ns, total: 385 ms\n",
      "Wall time: 383 ms\n"
     ]
    }
   ],
   "source": [
    "%%time\n",
    "total = 0\n",
    "for i in range(1000):\n",
    "    for j in range(1000):\n",
    "        total += i * (-1) ** j"
   ]
  },
  {
   "cell_type": "markdown",
   "metadata": {},
   "source": [
    "### %time, %timeit - 함수 실행시간 계산\n",
    "    - %time은 딱 한 번만 실행한 시간\n",
    "    - %timeit은 반복 실행해서 얻은 평균 시간"
   ]
  },
  {
   "cell_type": "code",
   "execution_count": 2,
   "metadata": {},
   "outputs": [],
   "source": [
    "def test_code():\n",
    "    total = 0\n",
    "    for i in range(1000):\n",
    "        for j in range(1000):\n",
    "            total += i * (-1) ** j"
   ]
  },
  {
   "cell_type": "code",
   "execution_count": 3,
   "metadata": {},
   "outputs": [
    {
     "name": "stdout",
     "output_type": "stream",
     "text": [
      "CPU times: user 318 ms, sys: 3.57 ms, total: 322 ms\n",
      "Wall time: 321 ms\n"
     ]
    }
   ],
   "source": [
    "%time test_code()"
   ]
  },
  {
   "cell_type": "code",
   "execution_count": 4,
   "metadata": {},
   "outputs": [
    {
     "name": "stdout",
     "output_type": "stream",
     "text": [
      "311 ms ± 5.2 ms per loop (mean ± std. dev. of 7 runs, 1 loop each)\n"
     ]
    }
   ],
   "source": [
    "# -r : 반복할 loop의 수 \n",
    "# -n : 한 loop에서 실행할 iteration 수 \n",
    "%timeit test_code()"
   ]
  },
  {
   "cell_type": "markdown",
   "metadata": {},
   "source": [
    "### %prun, %lprun - 함수 실행시간 계산\n",
    "    - %prun은 함수가 어떻게 실행되는 지 byte code 확인\n",
    "    - %lprun은 라인별로 실행시간 확인"
   ]
  },
  {
   "cell_type": "code",
   "execution_count": 5,
   "metadata": {},
   "outputs": [
    {
     "name": "stdout",
     "output_type": "stream",
     "text": [
      " "
     ]
    },
    {
     "data": {
      "text/plain": [
       "         4 function calls in 0.313 seconds\n",
       "\n",
       "   Ordered by: internal time\n",
       "\n",
       "   ncalls  tottime  percall  cumtime  percall filename:lineno(function)\n",
       "        1    0.313    0.313    0.313    0.313 <ipython-input-2-01450db6878c>:1(test_code)\n",
       "        1    0.000    0.000    0.313    0.313 {built-in method builtins.exec}\n",
       "        1    0.000    0.000    0.313    0.313 <string>:1(<module>)\n",
       "        1    0.000    0.000    0.000    0.000 {method 'disable' of '_lsprof.Profiler' objects}"
      ]
     },
     "metadata": {},
     "output_type": "display_data"
    }
   ],
   "source": [
    "%prun test_code()"
   ]
  },
  {
   "cell_type": "code",
   "execution_count": 6,
   "metadata": {},
   "outputs": [
    {
     "data": {
      "text/plain": [
       "Timer unit: 1e-06 s\n",
       "\n",
       "Total time: 0.90962 s\n",
       "File: <ipython-input-2-01450db6878c>\n",
       "Function: test_code at line 1\n",
       "\n",
       "Line #      Hits         Time  Per Hit   % Time  Line Contents\n",
       "==============================================================\n",
       "     1                                           def test_code():\n",
       "     2         1          2.0      2.0      0.0      total = 0\n",
       "     3      1001        328.0      0.3      0.0      for i in range(1000):\n",
       "     4   1001000     292098.0      0.3     32.1          for j in range(1000):\n",
       "     5   1000000     617192.0      0.6     67.9              total += i * (-1) ** j"
      ]
     },
     "metadata": {},
     "output_type": "display_data"
    }
   ],
   "source": [
    "#pip install line_profiler 먼저 설치\n",
    "%load_ext line_profiler\n",
    "\n",
    "%lprun -f test_code test_code() # -f 함수이름 함수이름(args) 형태"
   ]
  },
  {
   "cell_type": "markdown",
   "metadata": {},
   "source": [
    "## Memory Profiling - 코드 메모리 사용량 체크"
   ]
  },
  {
   "cell_type": "code",
   "execution_count": 9,
   "metadata": {},
   "outputs": [],
   "source": [
    "# pip install memory_profiler 먼저 설치\n",
    "%load_ext memory_profiler"
   ]
  },
  {
   "cell_type": "markdown",
   "metadata": {},
   "source": [
    "### %memit - 한 줄 코드 메모리 사용량 확인"
   ]
  },
  {
   "cell_type": "code",
   "execution_count": 24,
   "metadata": {},
   "outputs": [
    {
     "name": "stdout",
     "output_type": "stream",
     "text": [
      "peak memory: 500.87 MiB, increment: 416.68 MiB\n"
     ]
    }
   ],
   "source": [
    "import pandas as pd\n",
    "%memit df = pd.read_csv('/home/yahwang/Downloads/bike_test.csv')"
   ]
  },
  {
   "cell_type": "markdown",
   "metadata": {},
   "source": [
    "### %mprun - 모든 라인 메모리 사용량 확인\n",
    "    - 다른 파일에서 함수를 로드해야 사용이 가능하다."
   ]
  },
  {
   "cell_type": "code",
   "execution_count": 25,
   "metadata": {},
   "outputs": [
    {
     "name": "stdout",
     "output_type": "stream",
     "text": [
      "\n"
     ]
    },
    {
     "data": {
      "text/plain": [
       "Filename: /home/yahwang/jupyter/mprun_demo.py\n",
       "\n",
       "Line #    Mem usage    Increment   Line Contents\n",
       "================================================\n",
       "     1    366.7 MiB    366.7 MiB   def sum_of_lists(N):\n",
       "     2    366.7 MiB      0.0 MiB       total = 0\n",
       "     3    366.9 MiB      0.0 MiB       for i in range(5):\n",
       "     4    366.9 MiB      0.2 MiB           L = [j ^ (j >> i) for j in range(N)]\n",
       "     5    366.9 MiB      0.0 MiB           total += sum(L)\n",
       "     6    366.9 MiB      0.0 MiB           del L # remove reference to L\n",
       "     7    366.9 MiB      0.0 MiB       return total"
      ]
     },
     "metadata": {},
     "output_type": "display_data"
    }
   ],
   "source": [
    "from mprun_demo import sum_of_lists # 함수 로드\n",
    "\n",
    "%mprun -f sum_of_lists sum_of_lists(10000)"
   ]
  }
 ],
 "metadata": {
  "kernelspec": {
   "display_name": "Python 3",
   "language": "python",
   "name": "python3"
  },
  "language_info": {
   "codemirror_mode": {
    "name": "ipython",
    "version": 3
   },
   "file_extension": ".py",
   "mimetype": "text/x-python",
   "name": "python",
   "nbconvert_exporter": "python",
   "pygments_lexer": "ipython3",
   "version": "3.6.6"
  }
 },
 "nbformat": 4,
 "nbformat_minor": 2
}
