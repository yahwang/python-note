{
 "cells": [
  {
   "cell_type": "markdown",
   "metadata": {},
   "source": [
    "### call by object reference"
   ]
  },
  {
   "cell_type": "markdown",
   "metadata": {},
   "source": [
    "파이썬은 기본적으로 함수에 reference를 전달한다.\n",
    "\n",
    "\n",
    "그 이후에 object의 타입 (mutable, immutable)에 따라 연산결과를 call by value 또는 call by reference와 같은 작업을 처리한다."
   ]
  },
  {
   "cell_type": "markdown",
   "metadata": {},
   "source": [
    "#### call by value : immutable object\n",
    "\n",
    "이름이 같은 변수를 사용해도 새로운 object가 생성된다."
   ]
  },
  {
   "cell_type": "code",
   "execution_count": 1,
   "metadata": {},
   "outputs": [],
   "source": [
    "def call_by_value(val):\n",
    "    print(\"id of val : \", id(val))\n",
    "    val +=1000\n",
    "    print(\"id of changed val : \", id(val))"
   ]
  },
  {
   "cell_type": "code",
   "execution_count": 2,
   "metadata": {},
   "outputs": [
    {
     "name": "stdout",
     "output_type": "stream",
     "text": [
      "id of num :  140121232127056\n",
      "id of val :  140121232127056\n",
      "id of changed val :  140121232127088\n",
      "num value :  500\n"
     ]
    }
   ],
   "source": [
    "num = 500\n",
    "print(\"id of num : \", id(num))\n",
    "call_by_value(num)\n",
    "print(\"num value : \", num)"
   ]
  },
  {
   "cell_type": "markdown",
   "metadata": {},
   "source": [
    "val과 num의 처음 아이디는 같지만 val 변수를 다시 선언하면 새로운 id를 가진 obejct로 바뀐다."
   ]
  },
  {
   "cell_type": "code",
   "execution_count": 3,
   "metadata": {},
   "outputs": [],
   "source": [
    "def call_by_value2(string):\n",
    "    print(\"id of string\", id(string))\n",
    "    string += \"world!\"\n",
    "    print(\"id of new string\", id(string))"
   ]
  },
  {
   "cell_type": "code",
   "execution_count": 4,
   "metadata": {},
   "outputs": [
    {
     "name": "stdout",
     "output_type": "stream",
     "text": [
      "id of chars 140121232594232\n",
      "id of string 140121232594232\n",
      "id of new string 140121232331184\n",
      "chars value :  hello\n"
     ]
    }
   ],
   "source": [
    "chars = str(\"hello\")\n",
    "print(\"id of chars\", id(chars)) \n",
    "new_chars = call_by_value2(chars)\n",
    "print(\"chars value : \", chars)"
   ]
  },
  {
   "cell_type": "markdown",
   "metadata": {},
   "source": [
    "#### call by reference : mutable object\n",
    "\n",
    "이름이 같은 변수를 사용해도 상관없다."
   ]
  },
  {
   "cell_type": "code",
   "execution_count": 11,
   "metadata": {},
   "outputs": [],
   "source": [
    "def call_by_reference(mutable):\n",
    "    print(\"id of mutable : \", id(mutable))\n",
    "    mutable +=[1,2,3]\n",
    "    print(\"id of new mutable\", id(mutable))"
   ]
  },
  {
   "cell_type": "code",
   "execution_count": 12,
   "metadata": {},
   "outputs": [
    {
     "name": "stdout",
     "output_type": "stream",
     "text": [
      "id of array :  140121232330888\n",
      "id of mutable :  140121232330888\n",
      "id of new mutable 140121232330888\n",
      "[1, 2, 3, 1, 2, 3]\n"
     ]
    }
   ],
   "source": [
    "array = [1,2,3]\n",
    "print(\"id of array : \", id(array))\n",
    "call_by_reference(array)\n",
    "print(array)"
   ]
  },
  {
   "cell_type": "markdown",
   "metadata": {},
   "source": [
    "파이썬은 변수를 선언하면 새로운 객체가 생성되는 것이 기본이지만 array에 원소를 추가해 다시 선언해도 같은 변수가 유지된다."
   ]
  },
  {
   "cell_type": "markdown",
   "metadata": {},
   "source": [
    "#### immutable object를 mutable(reference)처럼 활용하는 법 - global 선언을 활용 (전역변수)\n",
    "\n",
    "함수 안에 global 선언을 헤야 변수가 전역변수라는 것을 의미한다."
   ]
  },
  {
   "cell_type": "code",
   "execution_count": 7,
   "metadata": {},
   "outputs": [],
   "source": [
    "def call_by_value():\n",
    "    global num\n",
    "    print(\"id of num : \", id(num))\n",
    "    num +=1000\n",
    "    print(\"id of changed val : \", id(num))"
   ]
  },
  {
   "cell_type": "code",
   "execution_count": 8,
   "metadata": {},
   "outputs": [
    {
     "name": "stdout",
     "output_type": "stream",
     "text": [
      "id of num :  140121232126352\n",
      "id of num :  140121232126352\n",
      "id of changed val :  140121232127056\n",
      "num value :  1500\n"
     ]
    }
   ],
   "source": [
    "num = 500\n",
    "print(\"id of num : \", id(num))\n",
    "call_by_value()\n",
    "print(\"num value : \", num)"
   ]
  }
 ],
 "metadata": {
  "kernelspec": {
   "display_name": "Python 3",
   "language": "python",
   "name": "python3"
  },
  "language_info": {
   "codemirror_mode": {
    "name": "ipython",
    "version": 3
   },
   "file_extension": ".py",
   "mimetype": "text/x-python",
   "name": "python",
   "nbconvert_exporter": "python",
   "pygments_lexer": "ipython3",
   "version": "3.7.0"
  }
 },
 "nbformat": 4,
 "nbformat_minor": 2
}
