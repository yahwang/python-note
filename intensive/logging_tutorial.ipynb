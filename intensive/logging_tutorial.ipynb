{
 "cells": [
  {
   "cell_type": "markdown",
   "metadata": {},
   "source": [
    "참고 : https://realpython.com/python-logging/"
   ]
  },
  {
   "cell_type": "markdown",
   "metadata": {},
   "source": [
    "#### 참고 : LOG LEVEL\n",
    "\n",
    "레벨 설정 기준으로,  왼쪽 방향 로그만 확인할 수 있다."
   ]
  },
  {
   "cell_type": "markdown",
   "metadata": {},
   "source": [
    "|<-|<-|<-|<-|<-|\n",
    "|-|-|-|-|-|\n",
    "| CRITICAL | ERROR | WARNING (DEFAULT) | INFO | DEBUG"
   ]
  },
  {
   "cell_type": "markdown",
   "metadata": {},
   "source": [
    "##  Logger 활용 ( Custom 하게 활용하기 )"
   ]
  },
  {
   "cell_type": "code",
   "execution_count": 1,
   "metadata": {},
   "outputs": [],
   "source": [
    "import logging"
   ]
  },
  {
   "cell_type": "code",
   "execution_count": 2,
   "metadata": {},
   "outputs": [],
   "source": [
    "logger = logging.getLogger(__name__)\n",
    "logger.setLevel(logging.INFO) # LEVEL 설정"
   ]
  },
  {
   "cell_type": "code",
   "execution_count": 3,
   "metadata": {},
   "outputs": [
    {
     "name": "stderr",
     "output_type": "stream",
     "text": [
      " WARNING\n",
      " ERROR\n"
     ]
    }
   ],
   "source": [
    "logger.debug(\" DEBUG\") # INFO 기준으로 확인 불가\n",
    "logger.warning(\" WARNING\")\n",
    "logger.info(\" INFO\")\n",
    "logger.error(\" ERROR\")"
   ]
  },
  {
   "cell_type": "markdown",
   "metadata": {},
   "source": [
    "###  handler 설정\n",
    "\n",
    "output을 어디에 출력할 것인지 정한다. 여러 곳으로 보내는 multiple handler도 가능\n",
    "\n",
    "|   output | Handler |\n",
    "|--|--|\n",
    "| console | StreamHandler |\n",
    "| file | FileHandler |\n",
    "| HTTP |  HTTPHandler|"
   ]
  },
  {
   "cell_type": "code",
   "execution_count": 4,
   "metadata": {},
   "outputs": [],
   "source": [
    "c_handler = logging.StreamHandler()\n",
    "f_handler = logging.FileHandler('file.log')\n",
    "# handler마다 level 설정\n",
    "c_handler.setLevel(logging.WARNING)\n",
    "f_handler.setLevel(logging.ERROR)"
   ]
  },
  {
   "cell_type": "code",
   "execution_count": 5,
   "metadata": {},
   "outputs": [],
   "source": [
    "# format 생성\n",
    "c_format = logging.Formatter('%(name)s - %(levelname)s - %(message)s')\n",
    "f_format = logging.Formatter('%(asctime)s - %(name)s - %(levelname)s - %(message)s')\n",
    "# format 적용\n",
    "c_handler.setFormatter(c_format)\n",
    "f_handler.setFormatter(f_format)"
   ]
  },
  {
   "cell_type": "code",
   "execution_count": 6,
   "metadata": {},
   "outputs": [],
   "source": [
    "# multiple handler 설정\n",
    "logger.addHandler(c_handler)\n",
    "logger.addHandler(f_handler)"
   ]
  },
  {
   "cell_type": "code",
   "execution_count": 7,
   "metadata": {},
   "outputs": [
    {
     "name": "stderr",
     "output_type": "stream",
     "text": [
      "__main__ - WARNING - This is a warning\n",
      "__main__ - ERROR - This is an error\n"
     ]
    }
   ],
   "source": [
    "logger.warning('This is a warning')\n",
    "logger.error('This is an error')"
   ]
  },
  {
   "cell_type": "code",
   "execution_count": 8,
   "metadata": {},
   "outputs": [
    {
     "name": "stdout",
     "output_type": "stream",
     "text": [
      "2019-11-18 02:16:51,844 - __main__ - ERROR - This is an error\n"
     ]
    }
   ],
   "source": [
    "!type file.log # windows 명령어"
   ]
  },
  {
   "cell_type": "markdown",
   "metadata": {},
   "source": [
    "활용 예제"
   ]
  },
  {
   "cell_type": "markdown",
   "metadata": {},
   "source": [
    "exec_info = True - Traceback 확인 가능"
   ]
  },
  {
   "cell_type": "code",
   "execution_count": 9,
   "metadata": {},
   "outputs": [
    {
     "name": "stderr",
     "output_type": "stream",
     "text": [
      "__main__ - ERROR - Exception occurred\n",
      "Traceback (most recent call last):\n",
      "  File \"<ipython-input-9-cf5a02e5af6a>\", line 5, in <module>\n",
      "    c = a / b\n",
      "ZeroDivisionError: division by zero\n"
     ]
    }
   ],
   "source": [
    "a = 5\n",
    "b = 0\n",
    "\n",
    "try:\n",
    "  c = a / b\n",
    "except Exception as e:\n",
    "  logger.error(\"Exception occurred\", exc_info=True)"
   ]
  },
  {
   "cell_type": "code",
   "execution_count": 10,
   "metadata": {},
   "outputs": [
    {
     "name": "stdout",
     "output_type": "stream",
     "text": [
      "2019-11-18 02:16:51,844 - __main__ - ERROR - This is an error\n",
      "2019-11-18 02:16:59,398 - __main__ - ERROR - Exception occurred\n",
      "Traceback (most recent call last):\n",
      "  File \"<ipython-input-9-cf5a02e5af6a>\", line 5, in <module>\n",
      "    c = a / b\n",
      "ZeroDivisionError: division by zero\n"
     ]
    }
   ],
   "source": [
    "!type file.log # windows 명령어"
   ]
  },
  {
   "cell_type": "markdown",
   "metadata": {},
   "source": [
    "### LOG 포맷 형식\n",
    "\n",
    "https://docs.python.org/3/library/logging.html#logrecord-attributes"
   ]
  },
  {
   "cell_type": "code",
   "execution_count": 1,
   "metadata": {},
   "outputs": [],
   "source": [
    "# -숫자 : 공백의 크기\n",
    "FORMAT = '%(process)d - %(levelname)s - %(asctime)-10s %(user)-8s %(message)s'\n",
    "# extra : 정해진 형식 이외의 user created key\n",
    "extra = {'user': 'yahwang'}"
   ]
  },
  {
   "cell_type": "code",
   "execution_count": 2,
   "metadata": {},
   "outputs": [
    {
     "name": "stderr",
     "output_type": "stream",
     "text": [
      "19964 - WARNING - 2019-11-18 02:13:16,433 yahwang  This is a warning\n"
     ]
    }
   ],
   "source": [
    "import logging\n",
    "logger = logging.getLogger(__name__)\n",
    "c_handler = logging.StreamHandler()\n",
    "c_format = logging.Formatter(FORMAT)\n",
    "c_handler.setLevel(logging.WARNING)\n",
    "c_handler.setFormatter(c_format)\n",
    "logger.addHandler(c_handler)\n",
    "\n",
    "logger.warning('This is a warning', extra=extra) "
   ]
  }
 ],
 "metadata": {
  "kernelspec": {
   "display_name": "Python 3",
   "language": "python",
   "name": "python3"
  },
  "language_info": {
   "codemirror_mode": {
    "name": "ipython",
    "version": 3
   },
   "file_extension": ".py",
   "mimetype": "text/x-python",
   "name": "python",
   "nbconvert_exporter": "python",
   "pygments_lexer": "ipython3",
   "version": "3.6.7"
  }
 },
 "nbformat": 4,
 "nbformat_minor": 4
}
