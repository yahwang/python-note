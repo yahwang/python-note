{
 "cells": [
  {
   "cell_type": "markdown",
   "metadata": {},
   "source": [
    "참고 : https://realpython.com/python-logging/"
   ]
  },
  {
   "cell_type": "markdown",
   "metadata": {},
   "source": [
    "#### 참고 : LOG LEVEL\n",
    "\n",
    "레벨 설정 기준으로,  왼쪽 방향 로그만 확인할 수 있다."
   ]
  },
  {
   "cell_type": "markdown",
   "metadata": {},
   "source": [
    "|<-|<-|<-|<-|<-|\n",
    "|-|-|-|-|-|\n",
    "| CRITICAL | ERROR | WARNING (DEFAULT) | INFO | DEBUG"
   ]
  },
  {
   "cell_type": "markdown",
   "metadata": {},
   "source": [
    "##  Logger 활용 ( Custom 하게 활용하기 )"
   ]
  },
  {
   "cell_type": "code",
   "execution_count": 3,
   "metadata": {},
   "outputs": [],
   "source": [
    "import logging"
   ]
  },
  {
   "cell_type": "code",
   "execution_count": 4,
   "metadata": {},
   "outputs": [],
   "source": [
    "logger = logging.getLogger(__name__)\n",
    "logger.setLevel(logging.INFO) # LEVEL 설정\n",
    "\n",
    "# 직접 LEVEL 지정\n",
    "#logger.debug(\" DEBUG\") # INFO 기준으로 확인 불가\n",
    "#logger.warning(\" WARNING\")\n",
    "#logger.info(\" INFO\")\n",
    "#logger.error(\" ERROR\")"
   ]
  },
  {
   "cell_type": "markdown",
   "metadata": {},
   "source": [
    "###  handler 설정\n",
    "\n",
    "output을 어디에 출력할 것인지 정한다. 여러 곳으로 보내는 multiple handler도 가능\n",
    "\n",
    "|   output | Handler |\n",
    "|--|--|\n",
    "| console | StreamHandler |\n",
    "| file | FileHandler |\n",
    "| HTTP |  HTTPHandler|"
   ]
  },
  {
   "cell_type": "code",
   "execution_count": 5,
   "metadata": {},
   "outputs": [],
   "source": [
    "c_handler = logging.StreamHandler()\n",
    "f_handler = logging.FileHandler('file.log')\n",
    "# handler마다 level 설정\n",
    "c_handler.setLevel(logging.WARNING)\n",
    "f_handler.setLevel(logging.ERROR)"
   ]
  },
  {
   "cell_type": "markdown",
   "metadata": {},
   "source": [
    "format 설정"
   ]
  },
  {
   "cell_type": "code",
   "execution_count": 6,
   "metadata": {},
   "outputs": [],
   "source": [
    "# format 생성\n",
    "c_format = logging.Formatter('%(name)s - %(levelname)s - %(message)s')\n",
    "f_format = logging.Formatter('%(asctime)s - %(name)s - %(levelname)s - %(message)s')\n",
    "# format 적용\n",
    "c_handler.setFormatter(c_format)\n",
    "f_handler.setFormatter(f_format)"
   ]
  },
  {
   "cell_type": "markdown",
   "metadata": {},
   "source": [
    "multiple handler 설정"
   ]
  },
  {
   "cell_type": "code",
   "execution_count": 7,
   "metadata": {},
   "outputs": [],
   "source": [
    "logger.addHandler(c_handler)\n",
    "logger.addHandler(f_handler)"
   ]
  },
  {
   "cell_type": "code",
   "execution_count": 8,
   "metadata": {},
   "outputs": [
    {
     "name": "stderr",
     "output_type": "stream",
     "text": [
      "__main__ - WARNING - This is a warning\n",
      "__main__ - ERROR - This is an error\n"
     ]
    }
   ],
   "source": [
    "logger.warning('This is a warning')\n",
    "logger.error('This is an error')"
   ]
  },
  {
   "cell_type": "code",
   "execution_count": 11,
   "metadata": {},
   "outputs": [
    {
     "name": "stdout",
     "output_type": "stream",
     "text": [
      "2020-06-08 00:09:58,152 - __main__ - ERROR - This is an error\n"
     ]
    }
   ],
   "source": [
    "# file handler는 ERROR로 지정했기 때문에 WARNING은 생략\n",
    "!cat file.log"
   ]
  },
  {
   "cell_type": "markdown",
   "metadata": {},
   "source": [
    "### LOG 포맷 형식\n",
    "\n",
    "https://docs.python.org/3/library/logging.html#logrecord-attributes"
   ]
  },
  {
   "cell_type": "code",
   "execution_count": 18,
   "metadata": {},
   "outputs": [],
   "source": [
    "# -숫자 : 공백의 크기\n",
    "FORMAT = '%(process)d - %(levelname)s - %(asctime)-10s %(user)-8s %(message)s'\n",
    "# extra : 정해진 형식 이외의 user created key\n",
    "extra = {'user': 'yahwang'}"
   ]
  },
  {
   "cell_type": "code",
   "execution_count": 19,
   "metadata": {},
   "outputs": [
    {
     "name": "stderr",
     "output_type": "stream",
     "text": [
      "__main__ - WARNING - This is a warning\n",
      "23361 - WARNING - 2020-06-08 00:12:06,834 yahwang  This is a warning\n",
      "23361 - WARNING - 2020-06-08 00:12:06,834 yahwang  This is a warning\n",
      "23361 - WARNING - 2020-06-08 00:12:06,834 yahwang  This is a warning\n"
     ]
    }
   ],
   "source": [
    "import logging\n",
    "\n",
    "c_handler = logging.StreamHandler()\n",
    "c_format = logging.Formatter(FORMAT) \n",
    "c_handler.setFormatter(c_format)\n",
    "c_handler.setLevel(logging.WARNING)\n",
    "\n",
    "logger = logging.getLogger(__name__)\n",
    "logger.addHandler(c_handler)\n",
    "\n",
    "logger.warning('This is a warning', extra=extra) "
   ]
  },
  {
   "cell_type": "markdown",
   "metadata": {},
   "source": [
    "### 한 번에 config 설정"
   ]
  },
  {
   "cell_type": "code",
   "execution_count": 3,
   "metadata": {},
   "outputs": [],
   "source": [
    "import logging\n",
    "\n",
    "c_handler = logging.StreamHandler()\n",
    "FORMAT = '%(process)d - %(levelname)s - %(asctime)-10s %(message)s'\n",
    "\n",
    "logging.basicConfig(\n",
    "    level=\"INFO\", format=FORMAT, datefmt=\"[%Y-%m-%d %H:%M:%S]\", handlers=[c_handler]\n",
    ")\n",
    "\n",
    "logger = logging.getLogger(__name__)"
   ]
  },
  {
   "cell_type": "code",
   "execution_count": 3,
   "metadata": {},
   "outputs": [
    {
     "name": "stderr",
     "output_type": "stream",
     "text": [
      "25179 - INFO - [2020-06-08 00:21:29] hello world\n",
      "25179 - WARNING - [2020-06-08 00:21:29] hello world\n"
     ]
    }
   ],
   "source": [
    "logger.info(\"hello world\")\n",
    "logger.warning(\"hello world\")"
   ]
  },
  {
   "cell_type": "markdown",
   "metadata": {},
   "source": [
    "### Traceback 확인"
   ]
  },
  {
   "cell_type": "markdown",
   "metadata": {},
   "source": [
    "exec_info = True - Traceback 확인 가능"
   ]
  },
  {
   "cell_type": "code",
   "execution_count": 4,
   "metadata": {},
   "outputs": [
    {
     "name": "stderr",
     "output_type": "stream",
     "text": [
      "28449 - ERROR - [2020-06-08 00:29:33] Exception occurred\n",
      "Traceback (most recent call last):\n",
      "  File \"<ipython-input-4-cf5a02e5af6a>\", line 5, in <module>\n",
      "    c = a / b\n",
      "ZeroDivisionError: division by zero\n"
     ]
    }
   ],
   "source": [
    "a = 5\n",
    "b = 0\n",
    "\n",
    "try:\n",
    "  c = a / b\n",
    "except Exception as e:\n",
    "  logger.error(\"Exception occurred\", exc_info=True)"
   ]
  },
  {
   "cell_type": "markdown",
   "metadata": {},
   "source": [
    "## Prettier logging with Rich"
   ]
  },
  {
   "cell_type": "markdown",
   "metadata": {},
   "source": [
    "https://rich.readthedocs.io/en/latest/logging.html"
   ]
  },
  {
   "cell_type": "markdown",
   "metadata": {},
   "source": [
    "![](https://raw.githubusercontent.com/willmcgugan/rich/master/imgs/logging.png)"
   ]
  },
  {
   "cell_type": "code",
   "execution_count": 2,
   "metadata": {},
   "outputs": [
    {
     "data": {
      "text/html": [
       "<pre style=\"white-space:pre;overflow-x:auto;line-height:normal;font-family:Menlo,'DejaVu Sans Mono',consolas,'Courier New',monospace\"><span style=\"color: #7fbfbf\">[2020-06-08 00:32:09] </span><span style=\"color: #000080\">INFO</span>     INFO - <span style=\"font-weight: bold\">[</span><span style=\"color: #000080; font-weight: bold\">2020</span>-<span style=\"color: #000080; font-weight: bold\">06</span>-<span style=\"color: #000080; font-weight: bold\">08</span> <span style=\"color: #000080; font-weight: bold\">00</span>:<span style=\"color: #000080; font-weight: bold\">32</span>:<span style=\"color: #000080; font-weight: bold\">09</span><span style=\"font-weight: bold\">]</span> <span style=\"color: #7f7f7f\">&lt;ipython-input-2-2008f6530249&gt;:11</span>\n",
       "                               Hello, World!                                                 \n",
       "</pre>\n"
      ],
      "text/plain": [
       "<rich.jupyter.JupyterRenderable at 0x7ffa7858df50>"
      ]
     },
     "metadata": {},
     "output_type": "display_data"
    },
    {
     "data": {
      "text/html": [
       "<pre style=\"white-space:pre;overflow-x:auto;line-height:normal;font-family:Menlo,'DejaVu Sans Mono',consolas,'Courier New',monospace\"><span style=\"color: #7fbfbf\">                      </span><span style=\"color: #800000\">WARNING</span>  WARNING - <span style=\"font-weight: bold\">[</span><span style=\"color: #000080; font-weight: bold\">2020</span>-<span style=\"color: #000080; font-weight: bold\">06</span>-<span style=\"color: #000080; font-weight: bold\">08</span>        <span style=\"color: #7f7f7f\">&lt;ipython-input-2-2008f6530249&gt;:12</span>\n",
       "                               <span style=\"color: #000080; font-weight: bold\">00</span>:<span style=\"color: #000080; font-weight: bold\">32</span>:<span style=\"color: #000080; font-weight: bold\">09</span><span style=\"font-weight: bold\">]</span> Hello, World!                                       \n",
       "</pre>\n"
      ],
      "text/plain": [
       "<rich.jupyter.JupyterRenderable at 0x7ffa7863e750>"
      ]
     },
     "metadata": {},
     "output_type": "display_data"
    },
    {
     "data": {
      "text/html": [
       "<pre style=\"white-space:pre;overflow-x:auto;line-height:normal;font-family:Menlo,'DejaVu Sans Mono',consolas,'Courier New',monospace\"><span style=\"color: #7fbfbf\">                      </span><span style=\"color: #800000; font-weight: bold\">ERROR</span>    ERROR - <span style=\"font-weight: bold\">[</span><span style=\"color: #000080; font-weight: bold\">2020</span>-<span style=\"color: #000080; font-weight: bold\">06</span>-<span style=\"color: #000080; font-weight: bold\">08</span>          <span style=\"color: #7f7f7f\">&lt;ipython-input-2-2008f6530249&gt;:13</span>\n",
       "                               <span style=\"color: #000080; font-weight: bold\">00</span>:<span style=\"color: #000080; font-weight: bold\">32</span>:<span style=\"color: #000080; font-weight: bold\">09</span><span style=\"font-weight: bold\">]</span> Hello, World!                                       \n",
       "</pre>\n"
      ],
      "text/plain": [
       "<rich.jupyter.JupyterRenderable at 0x7ffa7847c990>"
      ]
     },
     "metadata": {},
     "output_type": "display_data"
    }
   ],
   "source": [
    "import logging\n",
    "from rich.logging import RichHandler\n",
    "\n",
    "FORMAT = '%(levelname)s - %(asctime)-10s %(message)s'\n",
    "logging.basicConfig(\n",
    "    level=\"NOTSET\", format=FORMAT, datefmt=\"[%Y-%m-%d %H:%M:%S]\", handlers=[RichHandler()]\n",
    ")\n",
    "\n",
    "logger = logging.getLogger(__name__)\n",
    "logger.setLevel(logging.INFO)\n",
    "logger.info(\"Hello, World!\")\n",
    "logger.warning(\"Hello, World!\")\n",
    "logger.error(\"Hello, World!\")"
   ]
  }
 ],
 "metadata": {
  "kernelspec": {
   "display_name": "Python 3",
   "language": "python",
   "name": "python3"
  },
  "language_info": {
   "codemirror_mode": {
    "name": "ipython",
    "version": 3
   },
   "file_extension": ".py",
   "mimetype": "text/x-python",
   "name": "python",
   "nbconvert_exporter": "python",
   "pygments_lexer": "ipython3",
   "version": "3.7.5"
  }
 },
 "nbformat": 4,
 "nbformat_minor": 4
}
