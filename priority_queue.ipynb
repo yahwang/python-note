{
 "cells": [
  {
   "cell_type": "markdown",
   "metadata": {},
   "source": [
    "참고 : https://dbader.org/blog/priority-queues-in-python\n",
    "\n",
    "참고 : http://www.daleseo.com/python-heapq/"
   ]
  },
  {
   "cell_type": "markdown",
   "metadata": {},
   "source": [
    "## heapq\n",
    "\n",
    "List 타입을 가지고 그대로 사용하며, **min heap**으로만 구현해준다. max heap은 따로 구현해야 함\n",
    "\n",
    "데이터의 삽입, 삭제는 O(log N)의 복잡도를 가진다.\n",
    "\n",
    "참고 : 항상 heapq.함수명 형태로 사용해야 한다."
   ]
  },
  {
   "cell_type": "code",
   "execution_count": 18,
   "metadata": {},
   "outputs": [],
   "source": [
    "import heapq"
   ]
  },
  {
   "cell_type": "markdown",
   "metadata": {},
   "source": [
    "#### heapify : 먼저, list를 heap 형태로 정렬"
   ]
  },
  {
   "cell_type": "code",
   "execution_count": 19,
   "metadata": {},
   "outputs": [],
   "source": [
    "h=[7,8,3,2,1,9,12]\n",
    "\n",
    "heapq.heapify(h)"
   ]
  },
  {
   "cell_type": "code",
   "execution_count": 20,
   "metadata": {},
   "outputs": [
    {
     "name": "stdout",
     "output_type": "stream",
     "text": [
      "[1, 2, 3, 7, 8, 9, 12]\n",
      "<class 'list'>\n"
     ]
    }
   ],
   "source": [
    "print(h)\n",
    "print(type(h))"
   ]
  },
  {
   "cell_type": "code",
   "execution_count": 21,
   "metadata": {},
   "outputs": [
    {
     "name": "stdout",
     "output_type": "stream",
     "text": [
      "\n",
      "                 1                  \n",
      "        2                 3         \n",
      "    7        8        9        12   \n",
      "------------------------------------\n",
      "\n"
     ]
    }
   ],
   "source": [
    "show_tree(h) # 맨 아래 show_tree 함수 정의"
   ]
  },
  {
   "cell_type": "markdown",
   "metadata": {},
   "source": [
    "#### 삽입 및 삭제"
   ]
  },
  {
   "cell_type": "code",
   "execution_count": 22,
   "metadata": {},
   "outputs": [
    {
     "name": "stdout",
     "output_type": "stream",
     "text": [
      "\n",
      "                 1                  \n",
      "        2                 3         \n",
      "    4        8        9        12   \n",
      " 7  \n",
      "------------------------------------\n",
      "\n"
     ]
    }
   ],
   "source": [
    "heapq.heappush(h, 4) # heap의 마지막 node로 삽입 후 parent node와 비교\n",
    "show_tree(h)"
   ]
  },
  {
   "cell_type": "code",
   "execution_count": 23,
   "metadata": {},
   "outputs": [
    {
     "name": "stdout",
     "output_type": "stream",
     "text": [
      "\n",
      "                 2                  \n",
      "        4                 3         \n",
      "    7        8        9        12   \n",
      "------------------------------------\n",
      "\n"
     ]
    }
   ],
   "source": [
    "heapq.heappop(h) # heap의 root 삭제 후 마지막 node를 root로 올린 후 min-heapify\n",
    "show_tree(h) "
   ]
  },
  {
   "cell_type": "markdown",
   "metadata": {},
   "source": [
    "#### ( 우선순위, 데이터 ) 형태 - 첫번째 원소를 우선순위로 인식"
   ]
  },
  {
   "cell_type": "markdown",
   "metadata": {},
   "source": [
    "tuple을 활용하면 첫번째, 두번째, 세번째 원소 순으로 비교를 한다. (value가 같으면 다음 요소)\n",
    "\n",
    "When you put the objects (i.e. tuples) into heap, it will compare the first attribute in the object to compare. If a tie happens, heap wills use the next attribute (i.e. value_1) and so on."
   ]
  },
  {
   "cell_type": "code",
   "execution_count": 9,
   "metadata": {},
   "outputs": [
    {
     "name": "stdout",
     "output_type": "stream",
     "text": [
      "[(1, 'Enjoy!'), (4, 'Eat!'), (3, 'Go to home'), (10, 'Do not study'), (7, 'Pray!')]\n"
     ]
    }
   ],
   "source": [
    "import heapq\n",
    "h = [(3, \"Go to home\"), (10, \"Do not study\"), (1, \"Enjoy!\"), (4, \"Eat!\"), (7, \"Pray!\")]\n",
    "\n",
    "heapq.heapify(h)\n",
    "print(h)"
   ]
  },
  {
   "cell_type": "markdown",
   "metadata": {},
   "source": [
    "###  max-heap 구현"
   ]
  },
  {
   "cell_type": "markdown",
   "metadata": {},
   "source": [
    "#### 1. 모든 값에 -1을 곱해서 활용\n",
    "\n",
    "pop 또는 push 할 때도 -1을 곱하면 된다."
   ]
  },
  {
   "cell_type": "code",
   "execution_count": 41,
   "metadata": {},
   "outputs": [],
   "source": [
    "h=[7,8,3,2,1,9,12]\n",
    "h=list(map(lambda x:x*-1, h))"
   ]
  },
  {
   "cell_type": "code",
   "execution_count": 42,
   "metadata": {},
   "outputs": [
    {
     "name": "stdout",
     "output_type": "stream",
     "text": [
      "\n",
      "                -12                 \n",
      "        -8                -9        \n",
      "    -2       -1       -7       -3   \n",
      "------------------------------------\n",
      "\n"
     ]
    }
   ],
   "source": [
    "heapq.heapify(h)\n",
    "show_tree(h)"
   ]
  },
  {
   "cell_type": "code",
   "execution_count": 43,
   "metadata": {},
   "outputs": [
    {
     "name": "stdout",
     "output_type": "stream",
     "text": [
      "12\n"
     ]
    }
   ],
   "source": [
    "print( -heapq.heappop(h) )"
   ]
  },
  {
   "cell_type": "code",
   "execution_count": 44,
   "metadata": {},
   "outputs": [
    {
     "name": "stdout",
     "output_type": "stream",
     "text": [
      "\n",
      "                 -9                 \n",
      "        -8                -7        \n",
      "    -2       -1       -3   \n",
      "------------------------------------\n",
      "\n"
     ]
    }
   ],
   "source": [
    "show_tree(h)"
   ]
  },
  {
   "cell_type": "markdown",
   "metadata": {},
   "source": [
    "#### 2. heapq의 함수 활용\n",
    "\n",
    "heapify와 pop은 제공하지만 **heappush**는 함수로 제공하지 않아서 삽입 node에 대한 새로 정의가 필요하다."
   ]
  },
  {
   "cell_type": "code",
   "execution_count": 125,
   "metadata": {},
   "outputs": [],
   "source": [
    "h=[7,8,3,2,1,9,12]\n",
    "\n",
    "heapq._heapify_max(h)"
   ]
  },
  {
   "cell_type": "code",
   "execution_count": 126,
   "metadata": {},
   "outputs": [
    {
     "name": "stdout",
     "output_type": "stream",
     "text": [
      "\n",
      "                 12                 \n",
      "        8                 9         \n",
      "    2        1        7        3    \n",
      "------------------------------------\n",
      "\n"
     ]
    }
   ],
   "source": [
    "show_tree(h)"
   ]
  },
  {
   "cell_type": "code",
   "execution_count": 127,
   "metadata": {},
   "outputs": [
    {
     "data": {
      "text/plain": [
       "12"
      ]
     },
     "execution_count": 127,
     "metadata": {},
     "output_type": "execute_result"
    }
   ],
   "source": [
    "heapq._heappop_max(h)"
   ]
  },
  {
   "cell_type": "code",
   "execution_count": 128,
   "metadata": {},
   "outputs": [
    {
     "name": "stdout",
     "output_type": "stream",
     "text": [
      "\n",
      "                 9                  \n",
      "        8                 7         \n",
      "    2        1        3    \n",
      "------------------------------------\n",
      "\n"
     ]
    }
   ],
   "source": [
    "show_tree(h)"
   ]
  },
  {
   "cell_type": "markdown",
   "metadata": {},
   "source": [
    "#### push를 적용하기 위한 새로운 node 정의\n",
    "\n",
    "heappush 함수는 삽입한 원소가 작으면 ( < ) parent와 교환하기 때문에 반대 연산을 수행하도록 연산자를 정의한다."
   ]
  },
  {
   "cell_type": "code",
   "execution_count": 132,
   "metadata": {},
   "outputs": [],
   "source": [
    "class MaxHeapNode:\n",
    "    def __init__(self, val): self.val = val\n",
    "    def __lt__(self, other): return self.val > other.val # < 연산자를 정의\n",
    "    def __str__(self): return str(self.val)"
   ]
  },
  {
   "cell_type": "code",
   "execution_count": 133,
   "metadata": {},
   "outputs": [
    {
     "data": {
      "text/plain": [
       "True"
      ]
     },
     "execution_count": 133,
     "metadata": {},
     "output_type": "execute_result"
    }
   ],
   "source": [
    "MaxHeapNode(5) < MaxHeapNode(3) # True가 False로 바뀌었다."
   ]
  },
  {
   "cell_type": "code",
   "execution_count": 139,
   "metadata": {},
   "outputs": [],
   "source": [
    "h=[]\n",
    "for i in [7,8,3,2,1,9,12]:\n",
    "    heapq.heappush(h, MaxHeapObj(i))"
   ]
  },
  {
   "cell_type": "code",
   "execution_count": 140,
   "metadata": {},
   "outputs": [],
   "source": [
    "heapq.heappush(h, MaxHeapObj(6))"
   ]
  },
  {
   "cell_type": "code",
   "execution_count": 141,
   "metadata": {},
   "outputs": [
    {
     "name": "stdout",
     "output_type": "stream",
     "text": [
      "\n",
      "                 1                  \n",
      "        2                 7         \n",
      "    6        3        9        12   \n",
      " 8  \n",
      "------------------------------------\n",
      "\n"
     ]
    }
   ],
   "source": [
    "show_tree(h)"
   ]
  },
  {
   "cell_type": "markdown",
   "metadata": {},
   "source": [
    "## Priority Queue\n",
    "\n",
    "내부적으로 heapq 라이브러리로 구현되어 있으며, lock을 추가로 지원하는 라이브러리\n",
    "\n",
    "참고 : lock이 유용하지 않은 경우에는 불필요한 overhead로 인해 속도가 느릴 수 있음"
   ]
  },
  {
   "cell_type": "code",
   "execution_count": 1,
   "metadata": {},
   "outputs": [],
   "source": [
    "from queue import PriorityQueue\n",
    "\n",
    "q = PriorityQueue()"
   ]
  },
  {
   "cell_type": "markdown",
   "metadata": {},
   "source": [
    "#### 삽입 및 삭제"
   ]
  },
  {
   "cell_type": "code",
   "execution_count": 2,
   "metadata": {},
   "outputs": [],
   "source": [
    "h=[5,8,3,2,1,9,12]\n",
    "for node in h:\n",
    "    q.put(node)"
   ]
  },
  {
   "cell_type": "code",
   "execution_count": 3,
   "metadata": {},
   "outputs": [
    {
     "name": "stdout",
     "output_type": "stream",
     "text": [
      "[1, 2, 5, 8, 3, 9, 12]\n",
      "7\n"
     ]
    }
   ],
   "source": [
    "print( q.queue ) # queue 확인 가능\n",
    "print( q.qsize() )"
   ]
  },
  {
   "cell_type": "code",
   "execution_count": 4,
   "metadata": {},
   "outputs": [
    {
     "name": "stdout",
     "output_type": "stream",
     "text": [
      "1\n",
      "6\n"
     ]
    }
   ],
   "source": [
    "print( q.get() )\n",
    "print( q.qsize() )"
   ]
  },
  {
   "cell_type": "code",
   "execution_count": 5,
   "metadata": {},
   "outputs": [
    {
     "name": "stdout",
     "output_type": "stream",
     "text": [
      "2\n",
      "3\n",
      "5\n",
      "8\n",
      "9\n",
      "12\n"
     ]
    }
   ],
   "source": [
    "while not q.empty():\n",
    "    next_item = q.get()\n",
    "    print(next_item)"
   ]
  },
  {
   "cell_type": "code",
   "execution_count": null,
   "metadata": {},
   "outputs": [],
   "source": []
  },
  {
   "cell_type": "code",
   "execution_count": null,
   "metadata": {},
   "outputs": [],
   "source": []
  },
  {
   "cell_type": "markdown",
   "metadata": {},
   "source": [
    "heap을 보여주는 함수"
   ]
  },
  {
   "cell_type": "code",
   "execution_count": 1,
   "metadata": {},
   "outputs": [],
   "source": [
    "import math\n",
    "from io import StringIO\n",
    "\n",
    "def show_tree(tree, total_width=36, fill=' '):\n",
    "    \"\"\"Pretty-print a tree.\"\"\"\n",
    "    output = StringIO()\n",
    "    last_row = -1\n",
    "    for i, n in enumerate(tree):\n",
    "        if i:\n",
    "            row = int(math.floor(math.log(i+1, 2)))\n",
    "        else:\n",
    "            row = 0\n",
    "        if row != last_row:\n",
    "            output.write('\\n')\n",
    "        columns = 2**row\n",
    "        col_width = int(math.floor((total_width * 1.0) / columns))\n",
    "        output.write(str(n).center(col_width, fill))\n",
    "        last_row = row\n",
    "    print(output.getvalue())\n",
    "    print('-' * total_width)\n",
    "    print()\n",
    "    return"
   ]
  }
 ],
 "metadata": {
  "kernelspec": {
   "display_name": "Python 3",
   "language": "python",
   "name": "python3"
  },
  "language_info": {
   "codemirror_mode": {
    "name": "ipython",
    "version": 3
   },
   "file_extension": ".py",
   "mimetype": "text/x-python",
   "name": "python",
   "nbconvert_exporter": "python",
   "pygments_lexer": "ipython3",
   "version": "3.6.7"
  }
 },
 "nbformat": 4,
 "nbformat_minor": 4
}
