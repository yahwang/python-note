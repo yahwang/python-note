{
 "cells": [
  {
   "cell_type": "markdown",
   "metadata": {},
   "source": [
    "# 바로가기"
   ]
  },
  {
   "cell_type": "markdown",
   "metadata": {},
   "source": [
    "- 기초\n",
    "  - [call_by_object_reference (파이썬의 특징)](basics/object_reference.ipynb)\n",
    "  - [기본 타입 정렬 (sort)에 대한 정리](basics/summary_sort.ipynb)\n",
    "  - [문자열(String) Formatting 정리 with f-Strings](basics/string_format.ipynb)\n",
    "\n",
    "- Class\n",
    "  - [기초 ( + class_method(static_method), 추상 클래스(abstract) )](basics/class.ipynb)  \n",
    "  - [캡슐화에서 정보은닉 - 접근지정자[public, protected, private] (+ property )](basics/class_private.ipynb)  \n",
    "  \n",
    "\n",
    "- [Generator에 대한 이해](generator_tutorial.ipynb)\n",
    "- [파이썬 코딩테스트 유용팁](python_coding_tips.ipynb)\n",
    "- [queue & stack 활용하기](queue&stack_tutorial.ipynb) \n",
    "  - [priority_queue 구현](priority_queue.ipynb)  \n",
    "\n",
    "\n",
    "- Thread\n",
    "  - [CPython의 GIL에 대한 이해](https://yahwang.github.io/posts/70)\n",
    "  - [Thread 사용에 대한 이해](thread_tutorial.ipynb)\n",
    "  - [threading 라이브러리 추가 사용법](threading_usage.ipynb)\n",
    "\n",
    "- 부가적\n",
    "  - [tqdm - progress bar로 반복문 진행상황 시각화](others/tqdm.ipynb)\n",
    "  - [logging - 파이썬 로그 관리 ](others/logging_tutorial.ipynb)\n",
    "  - [profiling - 코드 실행 시간, 메모리 사용량 확인](others/profiling.ipynb) \n",
    "  - [type hint - python type을 static하게 활용 (3.5부터 지원 + mypy & pyre와 함께 활용)](others/typehint.ipynb) \n",
    "\n",
    "\n",
    "- numpy\n",
    "  - [np_indexing](numpy/np_indexing.ipynb) ( indexing한 변수의 value를 바꿔도 기존 array에도 함께 적용된다. )\n",
    "\n",
    "\n",
    "- 강연(or 영상) 정리\n",
    "  - [PyCon2018 - Pythonic code가 과연 효율적일까? ( pythonic 코드 performance 테스트 )](lectures/pycon_code_performance.ipynb)\n",
    "    - dict 합치기, 문자열 fomatting, item 검색"
   ]
  }
 ],
 "metadata": {
  "kernelspec": {
   "display_name": "Python 3",
   "language": "python",
   "name": "python3"
  },
  "language_info": {
   "codemirror_mode": {
    "name": "ipython",
    "version": 3
   },
   "file_extension": ".py",
   "mimetype": "text/x-python",
   "name": "python",
   "nbconvert_exporter": "python",
   "pygments_lexer": "ipython3",
   "version": "3.6.7"
  }
 },
 "nbformat": 4,
 "nbformat_minor": 4
}
