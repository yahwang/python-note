{
 "cells": [
  {
   "cell_type": "markdown",
   "metadata": {},
   "source": [
    "## Iterable VS Iterator"
   ]
  },
  {
   "cell_type": "markdown",
   "metadata": {},
   "source": [
    "참고 : http://bluese05.tistory.com/55"
   ]
  },
  {
   "cell_type": "markdown",
   "metadata": {},
   "source": [
    "### Iterable object"
   ]
  },
  {
   "cell_type": "markdown",
   "metadata": {},
   "source": [
    "리스트, Set, Dictionary와 같은 컬렉션이나 문자열과 같은 문자 Sequence를 말한다.\n",
    "\n",
    "( for 문과 같이 하나씩 데이터를 처리할 수 있다. )\n",
    "\n",
    "기본적으로, Iterable은 Iterator가 아니다."
   ]
  },
  {
   "cell_type": "markdown",
   "metadata": {},
   "source": [
    "### Iterator object"
   ]
  },
  {
   "cell_type": "markdown",
   "metadata": {},
   "source": [
    "**next()** 함수로 데이터를 순차적으로 호출가능한 object\n",
    "\n",
    "next()로 다음 데이터가 없을 경우(현재 마지막 데이터), StopIteration exception을 발생시킨다."
   ]
  },
  {
   "cell_type": "markdown",
   "metadata": {},
   "source": [
    "### Iterable object를 Iterator object로 활용"
   ]
  },
  {
   "cell_type": "code",
   "execution_count": 23,
   "metadata": {},
   "outputs": [
    {
     "data": {
      "text/plain": [
       "3"
      ]
     },
     "execution_count": 23,
     "metadata": {},
     "output_type": "execute_result"
    }
   ],
   "source": [
    "my_list = [1,2,3,4,5]\n",
    "my_iter = iter(my_list) # iter 함수로 iterator로 선언\n",
    "\n",
    "next(my_iter)  # 1\n",
    "my_iter.__next__() # 2  python3에서는 __next__()도 가능\n",
    "next(my_iter, False)  # StopIteration exception 예외 처리 - 여기서는 False로 활용"
   ]
  },
  {
   "cell_type": "markdown",
   "metadata": {},
   "source": [
    "#### generator expression - List comprehension과 방식은 같지만 ( )를 사용"
   ]
  },
  {
   "cell_type": "code",
   "execution_count": 35,
   "metadata": {},
   "outputs": [
    {
     "data": {
      "text/plain": [
       "<generator object <genexpr> at 0x7f34b802d318>"
      ]
     },
     "execution_count": 35,
     "metadata": {},
     "output_type": "execute_result"
    }
   ],
   "source": [
    "my_gen = ( i**2 for i in [1,2,3,4,5] )\n",
    "my_gen"
   ]
  },
  {
   "cell_type": "markdown",
   "metadata": {},
   "source": [
    "### Generator - iterator의 특수한 형태"
   ]
  },
  {
   "cell_type": "markdown",
   "metadata": {},
   "source": [
    "참고 : http://bluese05.tistory.com/56"
   ]
  },
  {
   "cell_type": "markdown",
   "metadata": {},
   "source": [
    "next() 함수를 통해 **차례로 값에 접근할 때마다 메모리에 적재하는 방식**"
   ]
  },
  {
   "cell_type": "markdown",
   "metadata": {},
   "source": [
    "generator 함수가 yield를 만날 경우, 해당 함수는 그 상태로 정지되며, return 값을 next()로 전달한다. \n",
    "\n",
    "이후, 해당 함수는 **종료되는 것이 아니라 그 상태로 유지**된다.\n",
    "\n",
    "즉, 함수의 local 변수 등 **함수 내부에서 사용된 데이터들이 메모리에 그대로 유지**된다."
   ]
  },
  {
   "cell_type": "code",
   "execution_count": 26,
   "metadata": {},
   "outputs": [
    {
     "name": "stdout",
     "output_type": "stream",
     "text": [
      "hello\n",
      "world!\n"
     ]
    }
   ],
   "source": [
    "# generator 함수는 yield를 사용함으로써 정의된다.\n",
    "def gen():\n",
    "    yield 'hello'\n",
    "    yield 'world!'\n",
    "\n",
    "make_gen = gen() # 변수로 선언 후 사용해야 한다.\n",
    "print(next(make_gen))  # 'hello'\n",
    "print(next(make_gen))  # 'world!'"
   ]
  },
  {
   "cell_type": "code",
   "execution_count": 30,
   "metadata": {},
   "outputs": [
    {
     "name": "stdout",
     "output_type": "stream",
     "text": [
      "num : 0\n",
      "num : 1\n",
      "-------------\n",
      "num : 0\n",
      "num : 1\n",
      "num : 2\n"
     ]
    }
   ],
   "source": [
    "def gen2():\n",
    "    for i in range(3):\n",
    "        yield 'num : ' + str(i)\n",
    "\n",
    "make_gen2 = gen2()\n",
    "\n",
    "print(next(make_gen2)) # num : 0\n",
    "print(next(make_gen2)) # num : 1\n",
    "print(\"-------------\")\n",
    "for i in gen2():\n",
    "    print(i)"
   ]
  },
  {
   "cell_type": "markdown",
   "metadata": {},
   "source": [
    "#### Generator의 장점"
   ]
  },
  {
   "cell_type": "markdown",
   "metadata": {},
   "source": [
    "* 메모리의 효율성\n",
    "\n",
    "list는 사이즈가 커질수록 메모리가 늘어나지만 generator는 메모리가 그대로이다.\n",
    "\n",
    "(  list는 모든 데이터를 메모리에 적재하지만 generator의 경우, next() 메소드를 통해 차례로 값에 접근할 때마다 메모리에 적재하는 방식이다. )"
   ]
  },
  {
   "cell_type": "code",
   "execution_count": 50,
   "metadata": {},
   "outputs": [
    {
     "name": "stdout",
     "output_type": "stream",
     "text": [
      "528\n",
      "4272\n"
     ]
    }
   ],
   "source": [
    "import sys\n",
    "print( sys.getsizeof([i for i in range(100) if i%2]))\n",
    "print( sys.getsizeof([i for i in range(1000) if i%2]))"
   ]
  },
  {
   "cell_type": "code",
   "execution_count": 49,
   "metadata": {},
   "outputs": [
    {
     "name": "stdout",
     "output_type": "stream",
     "text": [
      "120\n",
      "120\n"
     ]
    }
   ],
   "source": [
    "print( sys.getsizeof((i for i in range(100) if i%2)))\n",
    "print( sys.getsizeof((i for i in range(1000) if i%2)))"
   ]
  },
  {
   "cell_type": "markdown",
   "metadata": {},
   "source": [
    "* Lazy Evaluation\n",
    "\n",
    "List는 한번에 모든 연산을 수행하지만 generator는 차례대로 하나씩 연산을 수행한다.\n",
    "\n",
    "(수열과 같은 알고리즘에 유용)"
   ]
  },
  {
   "cell_type": "code",
   "execution_count": 53,
   "metadata": {},
   "outputs": [
    {
     "name": "stdout",
     "output_type": "stream",
     "text": [
      "[0, 5, 10, 15, 20]\n"
     ]
    }
   ],
   "source": [
    "def calc():\n",
    "    a = 0\n",
    "    while True:\n",
    "        yield a\n",
    "        a+=5\n",
    "\n",
    "make_gen = calc()\n",
    "res = [ next(make_gen) for _ in range(5) ]\n",
    "print(res)"
   ]
  }
 ],
 "metadata": {
  "kernelspec": {
   "display_name": "Python 3",
   "language": "python",
   "name": "python3"
  },
  "language_info": {
   "codemirror_mode": {
    "name": "ipython",
    "version": 3
   },
   "file_extension": ".py",
   "mimetype": "text/x-python",
   "name": "python",
   "nbconvert_exporter": "python",
   "pygments_lexer": "ipython3",
   "version": "3.7.0"
  }
 },
 "nbformat": 4,
 "nbformat_minor": 2
}
