{
 "cells": [
  {
   "cell_type": "markdown",
   "metadata": {},
   "source": [
    "# 1. deque를 Stack으로 활용"
   ]
  },
  {
   "cell_type": "markdown",
   "metadata": {},
   "source": [
    "| deque의 함수 | Stack 용어|\n",
    "|-------|------|\n",
    "|append|push|\n",
    "|pop|pop|"
   ]
  },
  {
   "cell_type": "code",
   "execution_count": 3,
   "metadata": {},
   "outputs": [
    {
     "name": "stdout",
     "output_type": "stream",
     "text": [
      "deque([100, 300, 400], maxlen=5)\n",
      "after pop : deque([100, 300], maxlen=5)\n"
     ]
    }
   ],
   "source": [
    "my_stack = deque(maxlen=5)\n",
    "\n",
    "# push\n",
    "my_stack.append(100)\n",
    "my_stack.extend([300, 400]) # 하나씩 오른쪽으로 넣는다.\n",
    "print(my_stack)\n",
    "# pop\n",
    "my_stack.pop()\n",
    "print(f'after pop : {my_stack}')"
   ]
  },
  {
   "cell_type": "markdown",
   "metadata": {},
   "source": [
    "# 2. Queue를 Stack으로 활용\n",
    "\n",
    "기본적으로 deque를 사용하며, **lock 기능(block)**을 지원한다. \n",
    "\n",
    "queue size 제한으로 item을 넣을 수 없거나 item을 가져올 수 없으면 push, pop이 무한대기 상태로 바뀐다."
   ]
  },
  {
   "cell_type": "markdown",
   "metadata": {},
   "source": [
    "참고 : https://dbader.org/blog/stacks-in-python"
   ]
  },
  {
   "cell_type": "markdown",
   "metadata": {},
   "source": [
    "#### queue 라이브러리의 LifoQueue"
   ]
  },
  {
   "cell_type": "code",
   "execution_count": 58,
   "metadata": {},
   "outputs": [
    {
     "name": "stdout",
     "output_type": "stream",
     "text": [
      "3\n",
      "2\n",
      "1\n"
     ]
    }
   ],
   "source": [
    "from queue import LifoQueue\n",
    "\n",
    "my_stack = LifoQueue()\n",
    "\n",
    "# push\n",
    "my_stack.put(1)\n",
    "my_stack.put(2)\n",
    "my_stack.put(3)\n",
    "\n",
    "# pop\n",
    "print( my_stack.get() )\n",
    "print( my_stack.get() )\n",
    "print( my_stack.get() )"
   ]
  }
 ],
 "metadata": {
  "kernelspec": {
   "display_name": "Python 3",
   "language": "python",
   "name": "python3"
  },
  "language_info": {
   "codemirror_mode": {
    "name": "ipython",
    "version": 3
   },
   "file_extension": ".py",
   "mimetype": "text/x-python",
   "name": "python",
   "nbconvert_exporter": "python",
   "pygments_lexer": "ipython3",
   "version": "3.6.7"
  }
 },
 "nbformat": 4,
 "nbformat_minor": 4
}
