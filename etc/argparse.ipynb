{
 "cells": [
  {
   "cell_type": "markdown",
   "metadata": {},
   "source": [
    "참고 : \n",
    "\n",
    "https://towardsdatascience.com/learn-enough-python-to-be-useful-argparse-e482e1764e05\n",
    "\n",
    "https://medium.com/swlh/python-argparse-by-example-a530eb55ced9"
   ]
  },
  {
   "cell_type": "code",
   "execution_count": 1,
   "metadata": {},
   "outputs": [
    {
     "name": "stdout",
     "output_type": "stream",
     "text": [
      "Overwriting test.py\n"
     ]
    }
   ],
   "source": [
    "%%writefile test.py\n",
    "import argparse\n",
    "\n",
    "parser = argparse.ArgumentParser(\n",
    "    usage=\"%(prog)s [Input] [Output]...\",\n",
    "    description=\" Videos to images\")\n",
    "\n",
    "parser.add_argument('indir', type=str, help='Input dir for videos')\n",
    "parser.add_argument('outdir', type=str, help='Output dir for image')\n",
    "\n",
    "args = parser.parse_args()\n",
    "\n",
    "print(args.indir)"
   ]
  },
  {
   "cell_type": "code",
   "execution_count": 18,
   "metadata": {},
   "outputs": [
    {
     "name": "stdout",
     "output_type": "stream",
     "text": [
      "hello\n"
     ]
    }
   ],
   "source": [
    "!python test.py hello world"
   ]
  },
  {
   "cell_type": "markdown",
   "metadata": {},
   "source": [
    "## document 기능"
   ]
  },
  {
   "cell_type": "markdown",
   "metadata": {},
   "source": [
    "--help 명령어를 통해 요구사항에 대해 파악할 수 있음"
   ]
  },
  {
   "cell_type": "markdown",
   "metadata": {},
   "source": [
    "Positional arguments : 필수로 입력해야 하는 arguments\n",
    "\n",
    "Optional arguments : 옵션으로 입력하는 arguments"
   ]
  },
  {
   "cell_type": "code",
   "execution_count": 19,
   "metadata": {},
   "outputs": [
    {
     "name": "stdout",
     "output_type": "stream",
     "text": [
      "usage: test.py [Input] [Output]...\n",
      "\n",
      "Videos to images\n",
      "\n",
      "positional arguments:\n",
      "  indir       Input dir for videos\n",
      "  outdir      Output dir for image\n",
      "\n",
      "optional arguments:\n",
      "  -h, --help  show this help message and exit\n"
     ]
    }
   ],
   "source": [
    "!python test.py --help"
   ]
  },
  {
   "cell_type": "markdown",
   "metadata": {},
   "source": [
    "## Optional Arguments"
   ]
  },
  {
   "cell_type": "markdown",
   "metadata": {},
   "source": [
    "-와 (short ver.) & -- 으로 설정"
   ]
  },
  {
   "cell_type": "code",
   "execution_count": 23,
   "metadata": {},
   "outputs": [
    {
     "name": "stdout",
     "output_type": "stream",
     "text": [
      "Overwriting test.py\n"
     ]
    }
   ],
   "source": [
    "%%writefile test.py\n",
    "\n",
    "import argparse\n",
    "parser = argparse.ArgumentParser(description=\" Videos to images\")\n",
    "# Positional\n",
    "parser.add_argument('indir', type=str, help='Input dir for videos')\n",
    "# Optional\n",
    "parser.add_argument('-o, --outdir', type=str, help='Output dir for image')\n",
    "args = parser.parse_args()\n",
    "\n",
    "print(args.indir)"
   ]
  },
  {
   "cell_type": "code",
   "execution_count": 24,
   "metadata": {},
   "outputs": [
    {
     "name": "stdout",
     "output_type": "stream",
     "text": [
      "usage: test.py [-h] [-o, --outdir O, __OUTDIR] indir\n",
      "\n",
      "Videos to images\n",
      "\n",
      "positional arguments:\n",
      "  indir                 Input dir for videos\n",
      "\n",
      "optional arguments:\n",
      "  -h, --help            show this help message and exit\n",
      "  -o, --outdir O, __OUTDIR\n",
      "                        Output dir for image\n"
     ]
    }
   ],
   "source": [
    "!python test.py --help"
   ]
  },
  {
   "cell_type": "markdown",
   "metadata": {},
   "source": [
    "## 파일을 argument로 받을 때 설정"
   ]
  },
  {
   "cell_type": "markdown",
   "metadata": {},
   "source": [
    "argparse.Filtype을 활용"
   ]
  },
  {
   "cell_type": "code",
   "execution_count": 3,
   "metadata": {},
   "outputs": [
    {
     "name": "stdout",
     "output_type": "stream",
     "text": [
      "Writing test2.py\n"
     ]
    }
   ],
   "source": [
    "%%writefile test2.py\n",
    "\n",
    "import argparse\n",
    "\n",
    "parser = argparse.ArgumentParser()\n",
    "\n",
    "# read type : 파일이 존재하지 않을 경우 error 처리\n",
    "parser.add_argument('infile', type=argparse.FileType('r'))\n",
    "\n",
    "parser.add_argument('--output', type=argparse.FileType('w', encoding='UTF-8'))\n",
    "\n",
    "args = parser.parse_args()\n",
    "\n",
    "print(args.infile)"
   ]
  },
  {
   "cell_type": "code",
   "execution_count": 4,
   "metadata": {},
   "outputs": [
    {
     "name": "stdout",
     "output_type": "stream",
     "text": [
      "usage: test2.py [-h] [--output OUTPUT] infile\n",
      "test2.py: error: argument infile: can't open 'a.csv': [Errno 2] No such file or directory: 'a.csv'\n"
     ]
    }
   ],
   "source": [
    "!python test2.py a.csv"
   ]
  },
  {
   "cell_type": "markdown",
   "metadata": {},
   "source": [
    "## production 환경 예시"
   ]
  },
  {
   "cell_type": "markdown",
   "metadata": {},
   "source": [
    "출처 : https://realpython.com/python-command-line-arguments/#the-command-line-interface"
   ]
  },
  {
   "cell_type": "code",
   "execution_count": 13,
   "metadata": {},
   "outputs": [],
   "source": [
    "import argparse\n",
    "\n",
    "def init_argparse() -> argparse.ArgumentParser:\n",
    "    parser = argparse.ArgumentParser(\n",
    "        usage=\"%(prog)s [OPTION] [FILE]...\",\n",
    "        description=\"Print or check SHA1 (160-bit) checksums.\"\n",
    "    )\n",
    "    parser.add_argument(\n",
    "        \"-v\", \"--version\", action=\"version\",\n",
    "        version = f\"{parser.prog} version 1.0.0\"\n",
    "    )\n",
    "    parser.add_argument('files', nargs='*')\n",
    "    return parser\n",
    "\n",
    "def main() -> None:\n",
    "    parser = init_argparse()\n",
    "    args = parser.parse_args()\n",
    "    if not args.files:\n",
    "        ..."
   ]
  }
 ],
 "metadata": {
  "kernelspec": {
   "display_name": "Python 3",
   "language": "python",
   "name": "python3"
  },
  "language_info": {
   "codemirror_mode": {
    "name": "ipython",
    "version": 3
   },
   "file_extension": ".py",
   "mimetype": "text/x-python",
   "name": "python",
   "nbconvert_exporter": "python",
   "pygments_lexer": "ipython3",
   "version": "3.7.5"
  }
 },
 "nbformat": 4,
 "nbformat_minor": 4
}
