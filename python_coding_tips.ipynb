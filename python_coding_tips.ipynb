{
 "cells": [
  {
   "cell_type": "markdown",
   "metadata": {},
   "source": [
    "##  파이썬 코딩테스트 유용 팁"
   ]
  },
  {
   "cell_type": "markdown",
   "metadata": {},
   "source": [
    "참고 : [How to Stand Out in a Python Coding Interview](https://realpython.com/python-coding-interview-tips/#select-the-right-built-in-function-for-the-job)"
   ]
  },
  {
   "cell_type": "markdown",
   "metadata": {},
   "source": [
    "- Select the Right Built-In Function for the Job\n",
    "    - Iterate With enumerate() Instead of range()\n",
    "    - Use List Comprehensions Instead of map() and filter()\n",
    "    - Debug With breakpoint() Instead of print()\n",
    "    - Format strings With f-Strings\n",
    "    - Sort Complex Lists With sorted()\n",
    "\n",
    "- Leverage Data Structures Effectively\n",
    "    - Store Unique Values With Sets\n",
    "    - Save Memory With Generators\n",
    "    - Define Default Values in Dictionaries With .get() and .setdefault()\n",
    "\n",
    "- Take Advantage of Python’s Standard Library\n",
    "    - Handle Missing Dictionary Keys With collections.defaultdict()\n",
    "    - Count Hashable Objects With collections.Counter\n",
    "    - Access Common String Groups With string Constants\n",
    "    - Generate Permutations and Combinations With itertools"
   ]
  },
  {
   "cell_type": "markdown",
   "metadata": {},
   "source": [
    "## enumerate 활용"
   ]
  },
  {
   "cell_type": "markdown",
   "metadata": {},
   "source": [
    "index와 value를 모두 접근해야 할때 유용하다."
   ]
  },
  {
   "cell_type": "code",
   "execution_count": 4,
   "metadata": {},
   "outputs": [
    {
     "name": "stdout",
     "output_type": "stream",
     "text": [
      "1 55\n",
      "2 54\n",
      "3 22\n"
     ]
    }
   ],
   "source": [
    "# 시작 index를 지정 가능 아니면, 0부터 시작\n",
    "for idx, num in enumerate(numbers, start=1):\n",
    "    print(idx, num)"
   ]
  },
  {
   "cell_type": "markdown",
   "metadata": {},
   "source": [
    "## map, filter 대신 List Comprehension 사용\n",
    "\n",
    "코드 가독성이 더 좋다."
   ]
  },
  {
   "cell_type": "code",
   "execution_count": 14,
   "metadata": {},
   "outputs": [],
   "source": [
    "numbers = ['35', '15', '1']"
   ]
  },
  {
   "cell_type": "markdown",
   "metadata": {},
   "source": [
    "#### map"
   ]
  },
  {
   "cell_type": "code",
   "execution_count": 15,
   "metadata": {},
   "outputs": [],
   "source": [
    "list(map(int, numbers)) # map\n",
    "\n",
    "#######################\n",
    "\n",
    "numbers = [int(i) for i in numbers] # List Comprehension"
   ]
  },
  {
   "cell_type": "code",
   "execution_count": 16,
   "metadata": {},
   "outputs": [],
   "source": [
    "list(map(lambda x: x+5, numbers)) # map\n",
    "\n",
    "################################\n",
    "\n",
    "numbers = [x+5 for x in numbers] # List Comprehension"
   ]
  },
  {
   "cell_type": "markdown",
   "metadata": {},
   "source": [
    "#### filter"
   ]
  },
  {
   "cell_type": "code",
   "execution_count": 18,
   "metadata": {},
   "outputs": [
    {
     "data": {
      "text/plain": [
       "[40, 20, 6]"
      ]
     },
     "execution_count": 18,
     "metadata": {},
     "output_type": "execute_result"
    }
   ],
   "source": [
    "list(filter(lambda x: x<50, numbers)) # filter\n",
    "\n",
    "###################################\n",
    "\n",
    "[x for x in numbers if x <50 ] # List Comprehension"
   ]
  },
  {
   "cell_type": "code",
   "execution_count": 20,
   "metadata": {},
   "outputs": [
    {
     "data": {
      "text/plain": [
       "[40, 20, 6]"
      ]
     },
     "execution_count": 20,
     "metadata": {},
     "output_type": "execute_result"
    }
   ],
   "source": [
    "def is_even(x):\n",
    "    return not bool(x % 2)\n",
    "\n",
    "[x for x in numbers if is_even(x) ] "
   ]
  },
  {
   "cell_type": "code",
   "execution_count": 1,
   "metadata": {},
   "outputs": [
    {
     "name": "stdout",
     "output_type": "stream",
     "text": [
      "Overwriting test.py\n"
     ]
    }
   ],
   "source": [
    "%%writefile test.py\n",
    "import pdb\n",
    " \n",
    "def sum(x, y):\n",
    "    z = x + y\n",
    "    return z\n",
    " \n",
    "a = 10\n",
    "pdb.set_trace()\n",
    "b = 20\n",
    "c = sum(a, b)\n",
    "print(c)"
   ]
  },
  {
   "cell_type": "markdown",
   "metadata": {},
   "source": [
    "### debugging할 때, print 대신 debugging 모듈(pdb) 활용"
   ]
  },
  {
   "cell_type": "markdown",
   "metadata": {},
   "source": [
    "참고 : http://pythonstudy.xyz/python/article/505-Python-%EB%94%94%EB%B2%84%EA%B9%85-PDB"
   ]
  },
  {
   "cell_type": "markdown",
   "metadata": {},
   "source": [
    "python 3.7 부터는 import pdb - pdb.set_trace() 대신 import 없이 breakpoint() 바로 사용 가능"
   ]
  },
  {
   "cell_type": "code",
   "execution_count": 9,
   "metadata": {},
   "outputs": [],
   "source": [
    "def get_name_and_decades(name, age):\n",
    "    return f\"My name is {name} and I'm {age/10 :.5f} decades old.\""
   ]
  },
  {
   "cell_type": "code",
   "execution_count": 10,
   "metadata": {},
   "outputs": [
    {
     "data": {
      "text/plain": [
       "\"My name is Maria and I'm 3.10000 decades old.\""
      ]
     },
     "execution_count": 10,
     "metadata": {},
     "output_type": "execute_result"
    }
   ],
   "source": [
    "get_name_and_decades(\"Maria\", 31)"
   ]
  },
  {
   "cell_type": "markdown",
   "metadata": {},
   "source": [
    "## Generator 사용으로 메모리 절약"
   ]
  },
  {
   "cell_type": "markdown",
   "metadata": {},
   "source": [
    "예시 : 1부터 1,000,000 더하는 예제"
   ]
  },
  {
   "cell_type": "markdown",
   "metadata": {},
   "source": [
    "List comprehension은 모든 value를 일단 리스트로 메모리에 로드하는 반면,\n",
    "\n",
    "Generator는 한 시점에 하나의 value만 메모리에 로드하고 계산하기 때문에 메모리가 절약된다."
   ]
  },
  {
   "cell_type": "code",
   "execution_count": 1,
   "metadata": {},
   "outputs": [],
   "source": [
    "# pip install memory_profiler 먼저 설치\n",
    "%load_ext memory_profiler"
   ]
  },
  {
   "cell_type": "code",
   "execution_count": 2,
   "metadata": {},
   "outputs": [
    {
     "name": "stdout",
     "output_type": "stream",
     "text": [
      "peak memory: 51.99 MiB, increment: 0.05 MiB\n"
     ]
    }
   ],
   "source": [
    "# Generator Expression\n",
    "%memit df = sum((i for i in range(1000000)))"
   ]
  },
  {
   "cell_type": "code",
   "execution_count": 3,
   "metadata": {},
   "outputs": [
    {
     "name": "stdout",
     "output_type": "stream",
     "text": [
      "peak memory: 90.77 MiB, increment: 38.74 MiB\n"
     ]
    }
   ],
   "source": [
    "# List comprehension\n",
    "%memit df = sum([i for i in range(1000000)])"
   ]
  },
  {
   "cell_type": "markdown",
   "metadata": {},
   "source": [
    "## dict 활용법"
   ]
  },
  {
   "cell_type": "markdown",
   "metadata": {},
   "source": [
    "존재하지 않는 key에 대한 keyError를 막기 위해 .get 또는 .setdefault를 사용\n",
    "\n",
    ".get(key, new val) : key가 존재하면 value를 가져오고 아니면 지정한 값을 return\n",
    "\n",
    ".setdefault(key, new val) : key가 존재하면 value를 return하고 아니면 key와 지정한 값으로 dict에 저장"
   ]
  },
  {
   "cell_type": "code",
   "execution_count": 38,
   "metadata": {},
   "outputs": [
    {
     "data": {
      "text/plain": [
       "{'kevin': 80, 'terry': 60, 'yahwang': 50, 'marry': 50}"
      ]
     },
     "execution_count": 38,
     "metadata": {},
     "output_type": "execute_result"
    }
   ],
   "source": [
    "total_scores = {'kevin':30, 'terry':60}\n",
    "names = ['yahwang', 'kevin', 'marry']\n",
    "\n",
    "for name in names:\n",
    "    if name in total_scores:\n",
    "        total_scores[name]+=50\n",
    "    else:\n",
    "        total_scores[name]=50\n",
    "\n",
    "total_scores"
   ]
  },
  {
   "cell_type": "code",
   "execution_count": 39,
   "metadata": {},
   "outputs": [
    {
     "data": {
      "text/plain": [
       "{'kevin': 80, 'terry': 60, 'yahwang': 50, 'marry': 50}"
      ]
     },
     "execution_count": 39,
     "metadata": {},
     "output_type": "execute_result"
    }
   ],
   "source": [
    "total_scores = {'kevin':30, 'terry':60}\n",
    "names = ['yahwang', 'kevin', 'marry']\n",
    "\n",
    "for name in names:\n",
    "    total_scores[name] = total_scores.get(name,0) + 50\n",
    "\n",
    "total_scores"
   ]
  },
  {
   "cell_type": "code",
   "execution_count": 41,
   "metadata": {},
   "outputs": [
    {
     "data": {
      "text/plain": [
       "{'kevin': 80, 'terry': 60, 'yahwang': 50, 'marry': 50, 'billy': 100}"
      ]
     },
     "execution_count": 41,
     "metadata": {},
     "output_type": "execute_result"
    }
   ],
   "source": [
    "total_scores.setdefault('billy', 100)\n",
    "total_scores"
   ]
  },
  {
   "cell_type": "markdown",
   "metadata": {},
   "source": [
    "## defaultdict 활용"
   ]
  },
  {
   "cell_type": "code",
   "execution_count": 44,
   "metadata": {},
   "outputs": [
    {
     "name": "stdout",
     "output_type": "stream",
     "text": [
      "defaultdict(<function <lambda> at 0x7f348fee32f0>, {'adfsvs': 100})\n",
      "defaultdict(<class 'list'>, {'scores': [50]})\n"
     ]
    }
   ],
   "source": [
    "from collections import defaultdict\n",
    "\n",
    "dict1 = defaultdict(lambda: 100)\n",
    "\n",
    "dict1['adfsvs']\n",
    "\n",
    "print(dict1)\n",
    "\n",
    "dict2 = defaultdict(list)\n",
    "\n",
    "dict2['scores'].append(50)\n",
    "\n",
    "print(dict2)"
   ]
  },
  {
   "cell_type": "markdown",
   "metadata": {},
   "source": [
    "### string 모듈"
   ]
  },
  {
   "cell_type": "code",
   "execution_count": 18,
   "metadata": {},
   "outputs": [],
   "source": [
    "import string"
   ]
  },
  {
   "cell_type": "code",
   "execution_count": 32,
   "metadata": {},
   "outputs": [
    {
     "data": {
      "text/plain": [
       "'!\"#$%&\\'()*+,-./:;<=>?@[\\\\]^_`{|}~'"
      ]
     },
     "execution_count": 32,
     "metadata": {},
     "output_type": "execute_result"
    }
   ],
   "source": [
    "string.punctuation"
   ]
  },
  {
   "cell_type": "code",
   "execution_count": 33,
   "metadata": {},
   "outputs": [
    {
     "data": {
      "text/plain": [
       "'0123456789'"
      ]
     },
     "execution_count": 33,
     "metadata": {},
     "output_type": "execute_result"
    }
   ],
   "source": [
    "string.digits"
   ]
  },
  {
   "cell_type": "code",
   "execution_count": 34,
   "metadata": {},
   "outputs": [
    {
     "data": {
      "text/plain": [
       "'ABCDEFGHIJKLMNOPQRSTUVWXYZ'"
      ]
     },
     "execution_count": 34,
     "metadata": {},
     "output_type": "execute_result"
    }
   ],
   "source": [
    "string.ascii_uppercase"
   ]
  },
  {
   "cell_type": "code",
   "execution_count": 35,
   "metadata": {},
   "outputs": [
    {
     "data": {
      "text/plain": [
       "'abcdefghijklmnopqrstuvwxyz'"
      ]
     },
     "execution_count": 35,
     "metadata": {},
     "output_type": "execute_result"
    }
   ],
   "source": [
    "string.ascii_lowercase"
   ]
  }
 ],
 "metadata": {
  "kernelspec": {
   "display_name": "Python 3",
   "language": "python",
   "name": "python3"
  },
  "language_info": {
   "codemirror_mode": {
    "name": "ipython",
    "version": 3
   },
   "file_extension": ".py",
   "mimetype": "text/x-python",
   "name": "python",
   "nbconvert_exporter": "python",
   "pygments_lexer": "ipython3",
   "version": "3.6.7"
  }
 },
 "nbformat": 4,
 "nbformat_minor": 4
}
