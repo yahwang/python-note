{
 "cells": [
  {
   "cell_type": "markdown",
   "metadata": {},
   "source": [
    "## Thread"
   ]
  },
  {
   "cell_type": "markdown",
   "metadata": {},
   "source": [
    "### 기본 사용법"
   ]
  },
  {
   "cell_type": "code",
   "execution_count": 40,
   "metadata": {},
   "outputs": [],
   "source": [
    "import threading\n",
    "\n",
    "def add(res, num):\n",
    "    print(\"start add\")\n",
    "    for i in range(num):\n",
    "        res +=i\n",
    "    print(\"end add\")\n",
    "def sub(res, num):\n",
    "    print(\"start sub\")\n",
    "    for i in range(num):\n",
    "        res -=i\n",
    "    print(\"end sub\")"
   ]
  },
  {
   "cell_type": "markdown",
   "metadata": {},
   "source": [
    "**args : tuple 타입 ( parameter가 1개라면 (,) 형태를 사용해야 한다. )**"
   ]
  },
  {
   "cell_type": "code",
   "execution_count": 41,
   "metadata": {},
   "outputs": [],
   "source": [
    "thread = threading.Thread( target=add, args=(0,1000) )"
   ]
  },
  {
   "cell_type": "markdown",
   "metadata": {},
   "source": [
    ".start : thread 시작 | .join : thread가 끝나기를 기다린다. (끝나야 다음 코드가 실행된다.)"
   ]
  },
  {
   "cell_type": "code",
   "execution_count": 42,
   "metadata": {},
   "outputs": [
    {
     "name": "stdout",
     "output_type": "stream",
     "text": [
      "start add\n",
      "end add\n",
      "finished\n"
     ]
    }
   ],
   "source": [
    "thread.start() \n",
    "thread.join()\n",
    "print(\"finished\")"
   ]
  },
  {
   "cell_type": "markdown",
   "metadata": {},
   "source": [
    "### daemon thread\n",
    "\n",
    "    메인 thread가 종료되면 같이 종료되는 thread (일반적인 thread는 메인 thread가 종료되어도 작업이 끝날때까지 수행한다.)"
   ]
  },
  {
   "cell_type": "code",
   "execution_count": 43,
   "metadata": {},
   "outputs": [],
   "source": [
    "thread2 = threading.Thread(target=sub, args=(1000, 10000))\n",
    "thread2.daemon=True # daemon thread 설정"
   ]
  },
  {
   "cell_type": "code",
   "execution_count": 44,
   "metadata": {},
   "outputs": [
    {
     "name": "stdout",
     "output_type": "stream",
     "text": [
      "start sub\n",
      "end sub\n"
     ]
    }
   ],
   "source": [
    "thread2.start()\n",
    "thread2.join()"
   ]
  },
  {
   "cell_type": "markdown",
   "metadata": {},
   "source": [
    "### multithreading"
   ]
  },
  {
   "cell_type": "code",
   "execution_count": 48,
   "metadata": {},
   "outputs": [
    {
     "name": "stdout",
     "output_type": "stream",
     "text": [
      "start add\n",
      "end add\n",
      "start sub\n",
      "end sub\n"
     ]
    }
   ],
   "source": [
    "threads = [] # 멀티 thread 활용을 위한 리스트\n",
    "\n",
    "th = threading.Thread( target=add, args=(0,1000) )\n",
    "th2 = threading.Thread(target=sub, args=(1000, 10000))\n",
    "\n",
    "threads.append(th)\n",
    "threads.append(th2)\n",
    "\n",
    "# for문을 활용해 thread 실행을 편하게\n",
    "for thread in threads:\n",
    "    thread.start()\n",
    "\n",
    "for thread in threads:\n",
    "    thread.join()"
   ]
  },
  {
   "cell_type": "code",
   "execution_count": null,
   "metadata": {},
   "outputs": [],
   "source": []
  },
  {
   "cell_type": "markdown",
   "metadata": {},
   "source": [
    "### multiprocessing"
   ]
  },
  {
   "cell_type": "markdown",
   "metadata": {},
   "source": [
    "같은 함수를 병렬처리에 유용"
   ]
  },
  {
   "cell_type": "code",
   "execution_count": null,
   "metadata": {},
   "outputs": [],
   "source": []
  }
 ],
 "metadata": {
  "kernelspec": {
   "display_name": "Python 3",
   "language": "python",
   "name": "python3"
  },
  "language_info": {
   "codemirror_mode": {
    "name": "ipython",
    "version": 3
   },
   "file_extension": ".py",
   "mimetype": "text/x-python",
   "name": "python",
   "nbconvert_exporter": "python",
   "pygments_lexer": "ipython3",
   "version": "3.7.0"
  }
 },
 "nbformat": 4,
 "nbformat_minor": 2
}
