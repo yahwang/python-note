{
 "cells": [
  {
   "cell_type": "markdown",
   "metadata": {},
   "source": [
    "## tqdm"
   ]
  },
  {
   "cell_type": "markdown",
   "metadata": {},
   "source": [
    "> 기본적으로 정해진 양의 task가 있어야 하기에 주로 For문으로 활용 한다."
   ]
  },
  {
   "cell_type": "code",
   "execution_count": 1,
   "metadata": {},
   "outputs": [],
   "source": [
    "from tqdm import tqdm\n",
    "import time"
   ]
  },
  {
   "cell_type": "code",
   "execution_count": 8,
   "metadata": {},
   "outputs": [
    {
     "name": "stderr",
     "output_type": "stream",
     "text": [
      "100%|███████████████████████████████████████████████████████████████| 20/20 [00:10<00:00,  1.99it/s]\n"
     ]
    }
   ],
   "source": [
    "for i in tqdm(range(20), ncols=100): # ncols : bar 길이 조절\n",
    "    time.sleep(0.5)"
   ]
  },
  {
   "cell_type": "markdown",
   "metadata": {},
   "source": [
    "#### bar 앞에 description 추가하기"
   ]
  },
  {
   "cell_type": "code",
   "execution_count": 14,
   "metadata": {},
   "outputs": [
    {
     "name": "stderr",
     "output_type": "stream",
     "text": [
      "Step 19: 100%|██████████| 20/20 [00:10<00:00,  1.97it/s]\n"
     ]
    }
   ],
   "source": [
    "with tqdm(range(20)) as pbar:\n",
    "    for i in pbar:\n",
    "        time.sleep(0.5)\n",
    "        pbar.set_description('Step {}'.format(i)) # 설정 코드"
   ]
  },
  {
   "cell_type": "markdown",
   "metadata": {},
   "source": [
    "#### 메세지 남기기"
   ]
  },
  {
   "cell_type": "code",
   "execution_count": 20,
   "metadata": {},
   "outputs": [
    {
     "name": "stderr",
     "output_type": "stream",
     "text": [
      "Step 1:   5%|▌         | 1/20 [00:00<00:09,  1.95it/s]"
     ]
    },
    {
     "name": "stdout",
     "output_type": "stream",
     "text": [
      "Done task 0\n"
     ]
    },
    {
     "name": "stderr",
     "output_type": "stream",
     "text": [
      "Step 11:  55%|█████▌    | 11/20 [00:05<00:04,  1.96it/s]"
     ]
    },
    {
     "name": "stdout",
     "output_type": "stream",
     "text": [
      "Done task 10\n"
     ]
    },
    {
     "name": "stderr",
     "output_type": "stream",
     "text": [
      "Step 19: 100%|██████████| 20/20 [00:10<00:00,  1.97it/s]\n"
     ]
    }
   ],
   "source": [
    "with tqdm(range(20)) as pbar:\n",
    "    for i in pbar:\n",
    "        pbar.set_description('Step {}'.format(i))\n",
    "        time.sleep(0.5)\n",
    "        if i % 10 ==0 :\n",
    "            tqdm.write(\"Done task %i\" % i) # 메시지 코드"
   ]
  },
  {
   "cell_type": "markdown",
   "metadata": {},
   "source": [
    "### 수동으로(manual) 작동하기\n",
    "    while 문 등에 활용 가능"
   ]
  },
  {
   "cell_type": "code",
   "execution_count": 16,
   "metadata": {},
   "outputs": [
    {
     "name": "stderr",
     "output_type": "stream",
     "text": [
      "100%|██████████| 100/100 [00:03<00:00, 33.04it/s]\n"
     ]
    }
   ],
   "source": [
    "pbar = tqdm(total=100) # total : 최종 목표 값\n",
    "for i in range(10):\n",
    "    time.sleep(0.3)\n",
    "    pbar.update(10) # update를 통해 값을 증가시킨다.\n",
    "pbar.close()"
   ]
  }
 ],
 "metadata": {
  "kernelspec": {
   "display_name": "Python 3",
   "language": "python",
   "name": "python3"
  },
  "language_info": {
   "codemirror_mode": {
    "name": "ipython",
    "version": 3
   },
   "file_extension": ".py",
   "mimetype": "text/x-python",
   "name": "python",
   "nbconvert_exporter": "python",
   "pygments_lexer": "ipython3",
   "version": "3.6.6"
  }
 },
 "nbformat": 4,
 "nbformat_minor": 2
}
