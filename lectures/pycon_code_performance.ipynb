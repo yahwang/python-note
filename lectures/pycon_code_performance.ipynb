{
 "cells": [
  {
   "cell_type": "markdown",
   "metadata": {},
   "source": [
    "## PyCon 2018 - Pythonic code가 과연 효율적일까?"
   ]
  },
  {
   "cell_type": "markdown",
   "metadata": {},
   "source": [
    "YOUTUBE : https://www.youtube.com/watch?v=Txz7K6Zc-_M"
   ]
  },
  {
   "cell_type": "code",
   "execution_count": 3,
   "metadata": {},
   "outputs": [],
   "source": [
    "import cProfile"
   ]
  },
  {
   "cell_type": "markdown",
   "metadata": {},
   "source": [
    "### List comprehension 속도 확인"
   ]
  },
  {
   "cell_type": "code",
   "execution_count": 37,
   "metadata": {},
   "outputs": [],
   "source": [
    "def list_comprehension(x):\n",
    "    res = [i*i for i in range(x)]\n",
    "    return res\n",
    "\n",
    "def list_append(x):\n",
    "    res = []\n",
    "    for i in range(x):\n",
    "        res.append(i*i)\n",
    "    return res"
   ]
  },
  {
   "cell_type": "code",
   "execution_count": 41,
   "metadata": {},
   "outputs": [
    {
     "name": "stdout",
     "output_type": "stream",
     "text": [
      "         5 function calls in 0.723 seconds\n",
      "\n",
      "   Ordered by: standard name\n",
      "\n",
      "   ncalls  tottime  percall  cumtime  percall filename:lineno(function)\n",
      "        1    0.000    0.000    0.626    0.626 <ipython-input-37-1f3e90168f56>:1(list_comprehension)\n",
      "        1    0.626    0.626    0.626    0.626 <ipython-input-37-1f3e90168f56>:2(<listcomp>)\n",
      "        1    0.097    0.097    0.723    0.723 <string>:1(<module>)\n",
      "        1    0.000    0.000    0.723    0.723 {built-in method builtins.exec}\n",
      "        1    0.000    0.000    0.000    0.000 {method 'disable' of '_lsprof.Profiler' objects}\n",
      "\n",
      "\n",
      "         10000004 function calls in 2.154 seconds\n",
      "\n",
      "   Ordered by: standard name\n",
      "\n",
      "   ncalls  tottime  percall  cumtime  percall filename:lineno(function)\n",
      "        1    1.495    1.495    2.053    2.053 <ipython-input-37-1f3e90168f56>:5(list_append)\n",
      "        1    0.102    0.102    2.154    2.154 <string>:1(<module>)\n",
      "        1    0.000    0.000    2.154    2.154 {built-in method builtins.exec}\n",
      " 10000000    0.557    0.000    0.557    0.000 {method 'append' of 'list' objects}\n",
      "        1    0.000    0.000    0.000    0.000 {method 'disable' of '_lsprof.Profiler' objects}\n",
      "\n",
      "\n"
     ]
    }
   ],
   "source": [
    "cProfile.run('list_comprehension(10000000)')\n",
    "cProfile.run('list_append(10000000)')"
   ]
  },
  {
   "cell_type": "markdown",
   "metadata": {},
   "source": [
    "### 문자열 formatting"
   ]
  },
  {
   "cell_type": "code",
   "execution_count": 38,
   "metadata": {},
   "outputs": [],
   "source": [
    "def get_fstring(x):\n",
    "    return [f'Format {i}/{x}' for i in range(x)]\n",
    "def get_formatted_string(x):\n",
    "    return ['Format {i}/{x}'.format(i=i, x=x) for i in range(x)]\n",
    "def get_percented_string(x):\n",
    "    return ['Format %(i)d/%(x)d' %{'i':i, 'x':x} for i in range(x)]"
   ]
  },
  {
   "cell_type": "code",
   "execution_count": 39,
   "metadata": {},
   "outputs": [
    {
     "name": "stdout",
     "output_type": "stream",
     "text": [
      "         5 function calls in 2.736 seconds\n",
      "\n",
      "   Ordered by: standard name\n",
      "\n",
      "   ncalls  tottime  percall  cumtime  percall filename:lineno(function)\n",
      "        1    0.000    0.000    2.533    2.533 <ipython-input-38-9f0b656530c0>:1(get_fstring)\n",
      "        1    2.533    2.533    2.533    2.533 <ipython-input-38-9f0b656530c0>:2(<listcomp>)\n",
      "        1    0.203    0.203    2.736    2.736 <string>:1(<module>)\n",
      "        1    0.000    0.000    2.736    2.736 {built-in method builtins.exec}\n",
      "        1    0.000    0.000    0.000    0.000 {method 'disable' of '_lsprof.Profiler' objects}\n",
      "\n",
      "\n",
      "         10000005 function calls in 6.906 seconds\n",
      "\n",
      "   Ordered by: standard name\n",
      "\n",
      "   ncalls  tottime  percall  cumtime  percall filename:lineno(function)\n",
      "        1    0.000    0.000    6.735    6.735 <ipython-input-38-9f0b656530c0>:3(get_formatted_string)\n",
      "        1    1.445    1.445    6.735    6.735 <ipython-input-38-9f0b656530c0>:4(<listcomp>)\n",
      "        1    0.171    0.171    6.906    6.906 <string>:1(<module>)\n",
      "        1    0.000    0.000    6.906    6.906 {built-in method builtins.exec}\n",
      "        1    0.000    0.000    0.000    0.000 {method 'disable' of '_lsprof.Profiler' objects}\n",
      " 10000000    5.290    0.000    5.290    0.000 {method 'format' of 'str' objects}\n",
      "\n",
      "\n",
      "         5 function calls in 4.211 seconds\n",
      "\n",
      "   Ordered by: standard name\n",
      "\n",
      "   ncalls  tottime  percall  cumtime  percall filename:lineno(function)\n",
      "        1    0.000    0.000    4.039    4.039 <ipython-input-38-9f0b656530c0>:5(get_percented_string)\n",
      "        1    4.039    4.039    4.039    4.039 <ipython-input-38-9f0b656530c0>:6(<listcomp>)\n",
      "        1    0.171    0.171    4.211    4.211 <string>:1(<module>)\n",
      "        1    0.000    0.000    4.211    4.211 {built-in method builtins.exec}\n",
      "        1    0.000    0.000    0.000    0.000 {method 'disable' of '_lsprof.Profiler' objects}\n",
      "\n",
      "\n"
     ]
    }
   ],
   "source": [
    "# fstring이 매우 빠르다\n",
    "cProfile.run('get_fstring(10000000)')\n",
    "cProfile.run('get_formatted_string(10000000)')\n",
    "cProfile.run('get_percented_string(10000000)')"
   ]
  },
  {
   "cell_type": "markdown",
   "metadata": {},
   "source": [
    "### Dict를 합치는 방법"
   ]
  },
  {
   "cell_type": "code",
   "execution_count": 33,
   "metadata": {},
   "outputs": [],
   "source": [
    "my_dict1 = {i:i+1for i in range(10000000)}\n",
    "my_dict2 = {i:i+2 for i in range(10000000,20000000)}"
   ]
  },
  {
   "cell_type": "code",
   "execution_count": 34,
   "metadata": {},
   "outputs": [],
   "source": [
    "def update_method(d_1, d_2):\n",
    "    res = {}\n",
    "    res.update(d_1)\n",
    "    res.update(d_2)\n",
    "    return res\n",
    "\n",
    "def dict_kwargs(d_1,d_2):\n",
    "    res = {**d_1, **d_2}\n",
    "    return res"
   ]
  },
  {
   "cell_type": "code",
   "execution_count": 35,
   "metadata": {},
   "outputs": [
    {
     "name": "stdout",
     "output_type": "stream",
     "text": [
      "         6 function calls in 0.514 seconds\n",
      "\n",
      "   Ordered by: standard name\n",
      "\n",
      "   ncalls  tottime  percall  cumtime  percall filename:lineno(function)\n",
      "        1    0.000    0.000    0.361    0.361 <ipython-input-34-df26c96f5596>:1(update_method)\n",
      "        1    0.153    0.153    0.514    0.514 <string>:1(<module>)\n",
      "        1    0.000    0.000    0.514    0.514 {built-in method builtins.exec}\n",
      "        1    0.000    0.000    0.000    0.000 {method 'disable' of '_lsprof.Profiler' objects}\n",
      "        2    0.361    0.180    0.361    0.180 {method 'update' of 'dict' objects}\n",
      "\n",
      "\n",
      "         4 function calls in 0.480 seconds\n",
      "\n",
      "   Ordered by: standard name\n",
      "\n",
      "   ncalls  tottime  percall  cumtime  percall filename:lineno(function)\n",
      "        1    0.329    0.329    0.329    0.329 <ipython-input-34-df26c96f5596>:7(dict_kwargs)\n",
      "        1    0.150    0.150    0.480    0.480 <string>:1(<module>)\n",
      "        1    0.000    0.000    0.480    0.480 {built-in method builtins.exec}\n",
      "        1    0.000    0.000    0.000    0.000 {method 'disable' of '_lsprof.Profiler' objects}\n",
      "\n",
      "\n"
     ]
    }
   ],
   "source": [
    "# kwargs 방법이 약간 더 빠르다\n",
    "cProfile.run('update_method(a,b)')\n",
    "cProfile.run('dict_kwargs(a,b)')"
   ]
  },
  {
   "cell_type": "markdown",
   "metadata": {},
   "source": [
    "### item 검색"
   ]
  },
  {
   "cell_type": "code",
   "execution_count": 1,
   "metadata": {},
   "outputs": [],
   "source": [
    "def find_in_set(x, s):\n",
    "    return x in s\n",
    "\n",
    "def find_in_list(x, l):\n",
    "    return x in l\n",
    "\n",
    "def find_in_tuple(x, t):\n",
    "    return x in t\n",
    "\n",
    "my_set = set(range(10000000))\n",
    "my_list = list(range(10000000))\n",
    "my_tuple = tuple(range(10000000))"
   ]
  },
  {
   "cell_type": "code",
   "execution_count": 7,
   "metadata": {},
   "outputs": [
    {
     "name": "stdout",
     "output_type": "stream",
     "text": [
      "         4 function calls in 0.000 seconds\n",
      "\n",
      "   Ordered by: standard name\n",
      "\n",
      "   ncalls  tottime  percall  cumtime  percall filename:lineno(function)\n",
      "        1    0.000    0.000    0.000    0.000 <ipython-input-1-9bfc03675b63>:1(find_in_set)\n",
      "        1    0.000    0.000    0.000    0.000 <string>:1(<module>)\n",
      "        1    0.000    0.000    0.000    0.000 {built-in method builtins.exec}\n",
      "        1    0.000    0.000    0.000    0.000 {method 'disable' of '_lsprof.Profiler' objects}\n",
      "\n",
      "\n",
      "         4 function calls in 0.138 seconds\n",
      "\n",
      "   Ordered by: standard name\n",
      "\n",
      "   ncalls  tottime  percall  cumtime  percall filename:lineno(function)\n",
      "        1    0.138    0.138    0.138    0.138 <ipython-input-1-9bfc03675b63>:4(find_in_list)\n",
      "        1    0.000    0.000    0.138    0.138 <string>:1(<module>)\n",
      "        1    0.000    0.000    0.138    0.138 {built-in method builtins.exec}\n",
      "        1    0.000    0.000    0.000    0.000 {method 'disable' of '_lsprof.Profiler' objects}\n",
      "\n",
      "\n",
      "         4 function calls in 0.123 seconds\n",
      "\n",
      "   Ordered by: standard name\n",
      "\n",
      "   ncalls  tottime  percall  cumtime  percall filename:lineno(function)\n",
      "        1    0.123    0.123    0.123    0.123 <ipython-input-1-9bfc03675b63>:7(find_in_tuple)\n",
      "        1    0.000    0.000    0.123    0.123 <string>:1(<module>)\n",
      "        1    0.000    0.000    0.123    0.123 {built-in method builtins.exec}\n",
      "        1    0.000    0.000    0.000    0.000 {method 'disable' of '_lsprof.Profiler' objects}\n",
      "\n",
      "\n"
     ]
    }
   ],
   "source": [
    "# set은 hash 테이블을 만들기 때문에 검색에서 약간 더 빠르다\n",
    "# 데이터가 unique하고 너무 많은 경우, set을 활용하는 게 도움이 된다.\n",
    "# set은 hash를 생성하는 데 시간과 메모리를 사용하기 때문에 작은 데이터는 list나 tuple을 권장\n",
    "cProfile.run('find_in_set(9834537,my_set)')\n",
    "cProfile.run('find_in_list(9843437,my_list)')\n",
    "cProfile.run('find_in_tuple(9813437,my_tuple)')"
   ]
  },
  {
   "cell_type": "markdown",
   "metadata": {},
   "source": [
    "### byte코드 확인(dis 모듈),  slots??"
   ]
  }
 ],
 "metadata": {
  "kernelspec": {
   "display_name": "Python 3",
   "language": "python",
   "name": "python3"
  },
  "language_info": {
   "codemirror_mode": {
    "name": "ipython",
    "version": 3
   },
   "file_extension": ".py",
   "mimetype": "text/x-python",
   "name": "python",
   "nbconvert_exporter": "python",
   "pygments_lexer": "ipython3",
   "version": "3.6.5"
  }
 },
 "nbformat": 4,
 "nbformat_minor": 2
}
