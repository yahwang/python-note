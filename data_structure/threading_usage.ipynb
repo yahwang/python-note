{
 "cells": [
  {
   "cell_type": "markdown",
   "metadata": {},
   "source": [
    "## threading.Event"
   ]
  },
  {
   "cell_type": "markdown",
   "metadata": {},
   "source": [
    "참고 : https://docs.python.org/3/library/threading.html#event-objects"
   ]
  },
  {
   "cell_type": "markdown",
   "metadata": {},
   "source": [
    "thread에게 signal을 보내는 flag"
   ]
  },
  {
   "cell_type": "markdown",
   "metadata": {},
   "source": [
    ".set : flag => True // .clear : flag => False\n",
    "\n",
    ".wait() : flag가 True가 되기까지 대기"
   ]
  },
  {
   "cell_type": "code",
   "execution_count": 5,
   "metadata": {},
   "outputs": [
    {
     "name": "stdout",
     "output_type": "stream",
     "text": [
      "Thread Start\n",
      "Thread End\n"
     ]
    }
   ],
   "source": [
    "import threading\n",
    "import time\n",
    "\n",
    "def my_func(event):\n",
    "    print(\"Thread Start\")\n",
    "    # event가 set될 때 까지 무한 수행\n",
    "    while not event.is_set():\n",
    "        pass\n",
    "    print(\"Thread End\")\n",
    "\n",
    "event = threading.Event()\n",
    "t1 = threading.Thread(target=my_func,args=(event,))\n",
    "t1.start()\n",
    "\n",
    "time.sleep(3) # 3초 뒤에 thread가 종료되도록 signal 설정\n",
    "event.set() # Event => True"
   ]
  },
  {
   "cell_type": "markdown",
   "metadata": {},
   "source": [
    "## threading.Semaphore - counter"
   ]
  },
  {
   "cell_type": "markdown",
   "metadata": {},
   "source": [
    "참고 : http://blog.naver.com/PostView.nhn?blogId=wwwkasa&logNo=220952228840&categoryNo=58&parentCategoryNo=0&viewDate=&currentPage=1&postListTopCurrentPage=1&from=postView"
   ]
  },
  {
   "cell_type": "markdown",
   "metadata": {},
   "source": [
    "동시에 실행가능한 thread 수를 제한하는 역할을 한다. \n",
    "\n",
    "사용 예 : 많은 thread가 실행중일 때(e.g. connections) 서버의 Resource 관리를 위해 특정 작업에 대해서는 실행 가능한 thread 수를 제한한다."
   ]
  },
  {
   "cell_type": "markdown",
   "metadata": {},
   "source": [
    "there is a guarantee that the operating system will not swap out the thread in the middle of incrementing or decrementing the counter."
   ]
  },
  {
   "cell_type": "markdown",
   "metadata": {},
   "source": [
    ".acquire : counter 감소\n",
    "\n",
    ".relase : counter 증가\n",
    "\n",
    "acquire를 실행하지 못하면 대기 상태가 된다."
   ]
  },
  {
   "cell_type": "code",
   "execution_count": 18,
   "metadata": {},
   "outputs": [
    {
     "name": "stdout",
     "output_type": "stream",
     "text": [
      "1 working\n",
      "2 working\n",
      "1 releasing3 working\n",
      "\n",
      "2 releasing\n",
      "4 working\n",
      "3 releasing5 working\n",
      "\n",
      "4 releasing\n",
      "5 releasing\n"
     ]
    }
   ],
   "source": [
    "import threading\n",
    "import logging\n",
    "import time\n",
    "\n",
    "class Semaphor(threading.Thread):\n",
    "    sema = threading.Semaphore(2) # counter 값 지정\n",
    "    \n",
    "    def __init__(self, name, daemon):\n",
    "        threading.Thread.__init__(self, name=name, daemon=daemon)\n",
    "    def run(self):\n",
    "        Semaphor.sema.acquire() # counter -= 1\n",
    "        print(f\"{self.name} working\")\n",
    "        time.sleep(2)\n",
    "        Semaphor.sema.release() # counter += 1\n",
    "        print(f\"{self.name} releasing\")\n",
    "        \n",
    "thread_list = []\n",
    "for i in range(1,6):\n",
    "    thread_list.append(Semaphor(i,True))\n",
    "for t in thread_list:\n",
    "    t.start()\n",
    "time.sleep(2) # 2개씩만 돌아가는 모습 확인 가능"
   ]
  },
  {
   "cell_type": "markdown",
   "metadata": {},
   "source": [
    "## threading.barrier"
   ]
  },
  {
   "cell_type": "markdown",
   "metadata": {},
   "source": [
    "참고 : https://www.geeksforgeeks.org/barrier-objects-python/"
   ]
  },
  {
   "cell_type": "markdown",
   "metadata": {},
   "source": [
    "Threads all will remain blocked until the specified number of threads are waiting, and then the are all released at the same time."
   ]
  },
  {
   "cell_type": "markdown",
   "metadata": {},
   "source": [
    "사용 예 : Multi-thread 사용 시 initializing 작업을 모두 끝내고 동시에 시작할 수 있도록 한다.\n",
    "\n",
    "(동시 시작은 단순 OS에게 thread의 본격적인 작업을 시작하라는 알리는 것 뿐 GIL에 따라 수행된다.)"
   ]
  },
  {
   "cell_type": "markdown",
   "metadata": {},
   "source": [
    "parties : 기다리게 할 thread 수    \n",
    "n_waiting : 현재 대기중인 thread 수\n",
    "\n",
    ".wait()을 실행할 때마다 counter가 증가하고 parties의 수와 일치하면 모든 thread 시작"
   ]
  },
  {
   "cell_type": "code",
   "execution_count": 5,
   "metadata": {},
   "outputs": [
    {
     "name": "stdout",
     "output_type": "stream",
     "text": [
      "Thread 1Thread 2 initializing...\n",
      "Thread 2 waiting\n",
      " initializing...\n",
      "Thread 1 waiting\n"
     ]
    },
    {
     "name": "stderr",
     "output_type": "stream",
     "text": [
      "DEBUG:root:num of parties : 3\n",
      "DEBUG:root:waiting Thread Number : 2\n",
      "INFO:root:barrier start now\n"
     ]
    },
    {
     "name": "stdout",
     "output_type": "stream",
     "text": [
      "Thread 2 start\n",
      "Thread 1 start\n"
     ]
    }
   ],
   "source": [
    "import threading\n",
    "import logging\n",
    "import time\n",
    "\n",
    "class Barrier(threading.Thread):\n",
    "    barrier = threading.Barrier(3) # 기다릴 parties 지정\n",
    "    \n",
    "    def __init__(self, name):\n",
    "        threading.Thread.__init__(self, name=name)\n",
    "    def run(self):\n",
    "        print(self.name, \"initializing...\")\n",
    "        print(self.name, \"waiting\")\n",
    "        Barrier.barrier.wait() # barrier에 추가\n",
    "        print(self.name, \"start\")\n",
    "\n",
    "logging.getLogger().setLevel(logging.DEBUG)\n",
    "\n",
    "thread1 = Barrier(\"Thread 1\")\n",
    "thread2 = Barrier(\"Thread 2\")\n",
    "thread1.start()\n",
    "thread2.start()\n",
    "\n",
    "time.sleep(2)\n",
    "logging.debug(f\"num of parties : {Barrier.barrier.parties}\")\n",
    "logging.debug(f\"waiting Thread Number : {Barrier.barrier.n_waiting}\")\n",
    "logging.info(\"barrier start now\")\n",
    "Barrier.barrier.wait() # waiting 수와 parties가 같아짐\n",
    "thread1.join()"
   ]
  },
  {
   "cell_type": "markdown",
   "metadata": {},
   "source": [
    "## threading.Timer"
   ]
  },
  {
   "cell_type": "markdown",
   "metadata": {},
   "source": [
    "특정 시간 후에 작동하도록 설정 가능\n",
    "\n",
    ".cancel : 중지"
   ]
  },
  {
   "cell_type": "code",
   "execution_count": 3,
   "metadata": {},
   "outputs": [
    {
     "name": "stdout",
     "output_type": "stream",
     "text": [
      "1555594829.9424112\n",
      "working\n",
      "5.001625061035156\n"
     ]
    }
   ],
   "source": [
    "import threading\n",
    "import time\n",
    "\n",
    "def my_func():\n",
    "    print(\"working\")\n",
    "    \n",
    "start = time.time()\n",
    "print(start)\n",
    "t = threading.Timer(5, my_func)\n",
    "t.start()\n",
    "t.join()\n",
    "print(time.time()-start)"
   ]
  }
 ],
 "metadata": {
  "kernelspec": {
   "display_name": "Python 3",
   "language": "python",
   "name": "python3"
  },
  "language_info": {
   "codemirror_mode": {
    "name": "ipython",
    "version": 3
   },
   "file_extension": ".py",
   "mimetype": "text/x-python",
   "name": "python",
   "nbconvert_exporter": "python",
   "pygments_lexer": "ipython3",
   "version": "3.6.7"
  }
 },
 "nbformat": 4,
 "nbformat_minor": 4
}
