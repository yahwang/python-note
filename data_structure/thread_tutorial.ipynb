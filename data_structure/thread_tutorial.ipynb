{
 "cells": [
  {
   "cell_type": "markdown",
   "metadata": {},
   "source": [
    "## Thread"
   ]
  },
  {
   "cell_type": "markdown",
   "metadata": {},
   "source": [
    "Thread는 프로그램 내에서, 특히 프로세스 내에서 실행되는 흐름의 단위를 말한다. (a separate flow of execution)"
   ]
  },
  {
   "cell_type": "markdown",
   "metadata": {},
   "source": [
    "파이썬에서 Multi-Threading은 GIL때문에 I/O bound Program에 사용하기 적합하다."
   ]
  },
  {
   "cell_type": "code",
   "execution_count": 19,
   "metadata": {},
   "outputs": [],
   "source": [
    "import threading\n",
    "\n",
    "def add(res, num):\n",
    "    print(\"start add func\")\n",
    "    for i in range(num):\n",
    "        res +=i\n",
    "    print(\"end add\")"
   ]
  },
  {
   "cell_type": "markdown",
   "metadata": {},
   "source": [
    "**args : tuple 타입 ( parameter가 1개라면 (,) 형태를 사용해야 한다. )**"
   ]
  },
  {
   "cell_type": "code",
   "execution_count": 20,
   "metadata": {},
   "outputs": [
    {
     "name": "stdout",
     "output_type": "stream",
     "text": [
      "start add func\n",
      "end add\n"
     ]
    }
   ],
   "source": [
    "thread = threading.Thread( target=add, args=(0,1000) )\n",
    "thread.start() # 스레드 시작"
   ]
  },
  {
   "cell_type": "markdown",
   "metadata": {},
   "source": [
    "## Non-daemon VS Daemon Threads"
   ]
  },
  {
   "cell_type": "markdown",
   "metadata": {},
   "source": [
    "### Non-daemon Threads"
   ]
  },
  {
   "cell_type": "markdown",
   "metadata": {},
   "source": [
    "메인 스레드의 모든 코드를 수행하더라도 모든 스레드의 작업이 끝나야 프로그램이 종료된다. (대기 시간이 생김)"
   ]
  },
  {
   "cell_type": "code",
   "execution_count": 2,
   "metadata": {},
   "outputs": [
    {
     "name": "stderr",
     "output_type": "stream",
     "text": [
      "INFO:root:Main    : before creating thread\n",
      "INFO:root:Main    : before running thread\n",
      "INFO:root:Thread 1: starting\n",
      "INFO:root:Main    : wait for the thread to finish\n",
      "INFO:root:Main    : all done. Waiting non-daemon threads to finish\n",
      "INFO:root:Thread 1: finishing\n"
     ]
    }
   ],
   "source": [
    "import logging\n",
    "import threading\n",
    "import time\n",
    "\n",
    "logging.getLogger().setLevel(logging.INFO)\n",
    "\n",
    "def thread_function(name):\n",
    "    logging.info(f'Thread {name}: starting')\n",
    "    time.sleep(2)\n",
    "    logging.info(f'Thread {name}: finishing')\n",
    "\n",
    "\n",
    "logging.info(\"Main    : before creating thread\")\n",
    "x = threading.Thread(target=thread_function, args=(1,))\n",
    "logging.info(\"Main    : before running thread\")\n",
    "x.start()\n",
    "logging.info(\"Main    : wait for the thread to finish\")\n",
    "logging.info(\"Main    : all done. Waiting non-daemon threads to finish\")"
   ]
  },
  {
   "cell_type": "markdown",
   "metadata": {},
   "source": [
    "### Daemon Threads"
   ]
  },
  {
   "cell_type": "markdown",
   "metadata": {},
   "source": [
    "데몬 스레드는 백그라운드에서 실행되는 스레드이다.(a process that runs in the background)\n",
    "\n",
    "프로그램이 종료될 때 데몬 스레드도 함께 종료되는 특징을 가지고 있다."
   ]
  },
  {
   "cell_type": "code",
   "execution_count": 5,
   "metadata": {},
   "outputs": [
    {
     "name": "stderr",
     "output_type": "stream",
     "text": [
      "INFO:root:Main    : before creating thread\n",
      "INFO:root:Main    : before running thread\n",
      "INFO:root:Thread 1: starting\n",
      "INFO:root:Main    : wait for the thread to finish\n",
      "INFO:root:Main    : all done. Exit the program and kill daemon threads\n",
      "INFO:root:Thread 1: finishing\n"
     ]
    }
   ],
   "source": [
    "# Thread 생성 시 daemon=True를 입력한다.\n",
    "\n",
    "logging.info(\"Main    : before creating thread\")\n",
    "x = threading.Thread(target=thread_function, args=(1,), daemon=True)\n",
    "logging.info(\"Main    : before running thread\")\n",
    "x.start()\n",
    "logging.info(\"Main    : wait for the thread to finish\")\n",
    "logging.info(\"Main    : all done. Exit the program and kill daemon threads\")"
   ]
  },
  {
   "cell_type": "markdown",
   "metadata": {},
   "source": [
    "### .join() : main스레드가 다른 스레드 작업이 끝나기를 기다린다."
   ]
  },
  {
   "cell_type": "code",
   "execution_count": 7,
   "metadata": {},
   "outputs": [
    {
     "name": "stderr",
     "output_type": "stream",
     "text": [
      "INFO:root:Main    : create and start thread 0.\n",
      "INFO:root:Thread 0: starting\n",
      "INFO:root:Main    : create and start thread 1.\n",
      "INFO:root:Thread 1: starting\n",
      "INFO:root:Main    : create and start thread 2.\n",
      "INFO:root:Thread 2: starting\n",
      "INFO:root:Thread 0: finishing\n",
      "INFO:root:Main    : thread 0 done\n",
      "INFO:root:Thread 1: finishing\n",
      "INFO:root:Main    : thread 1 done\n",
      "INFO:root:Thread 2: finishing\n",
      "INFO:root:Main    : thread 2 done\n"
     ]
    }
   ],
   "source": [
    "threads = list()\n",
    "for index in range(3):\n",
    "    logging.info(\"Main    : create and start thread %d.\", index)\n",
    "    x = threading.Thread(target=thread_function, args=(index,))\n",
    "    threads.append(x)\n",
    "    x.start()\n",
    "\n",
    "for index, thread in enumerate(threads):\n",
    "    thread.join() # 각각의 thread가 끝나기를 기다린다.\n",
    "    logging.info(\"Main    : thread %d done\", index)"
   ]
  },
  {
   "cell_type": "markdown",
   "metadata": {},
   "source": [
    "참고 : 스레드가 실행되는 순서는 운영 체제에 의해 결정되기 때문에 실행순서가 코드와 같음을 보장할 수 없다."
   ]
  },
  {
   "cell_type": "markdown",
   "metadata": {},
   "source": [
    "### ThreadPoolExecutor"
   ]
  },
  {
   "cell_type": "markdown",
   "metadata": {},
   "source": [
    "코드 실행 순서가 Thread 실행순서로 정할 수 있다.\n",
    "\n",
    "ThreadPoolExecutor, and it’s part of the standard library in concurrent.futures (as of Python 3.2)."
   ]
  },
  {
   "cell_type": "markdown",
   "metadata": {},
   "source": [
    "max_worker : thread의 개수\n",
    "\n",
    ".map : list와 같은 형태로 args를 전달하면 thread에 하나씩 전달된다. (한 번에 실행)\n",
    "\n",
    ".submit : thread마다 args를 각각 전달하는 코드 (반복 실행)"
   ]
  },
  {
   "cell_type": "code",
   "execution_count": 8,
   "metadata": {},
   "outputs": [
    {
     "name": "stderr",
     "output_type": "stream",
     "text": [
      "INFO:root:Thread 0: starting\n",
      "INFO:root:Thread 1: starting\n",
      "INFO:root:Thread 2: starting\n",
      "INFO:root:Thread 0: finishing\n",
      "INFO:root:Thread 1: finishing\n",
      "INFO:root:Thread 2: finishing\n"
     ]
    }
   ],
   "source": [
    "import concurrent.futures\n",
    "import logging\n",
    "import time\n",
    "\n",
    "def thread_function(name):\n",
    "    logging.info(\"Thread %s: starting\", name)\n",
    "    time.sleep(2)\n",
    "    logging.info(\"Thread %s: finishing\", name)\n",
    "\n",
    "with concurrent.futures.ThreadPoolExecutor(max_workers=3) as executor: # with와 함께 사용을 권장\n",
    "    executor.map(thread_function, [0,1,2]) # 3개\n",
    "    # executor.submit(thread_function, 0) \\ executor.submit(thread_function, 1) \\ ..."
   ]
  },
  {
   "cell_type": "markdown",
   "metadata": {},
   "source": [
    "#### ThreadPoolExecutor 사용 시 주의사항\n",
    "\n",
    "parameter가 없는 function에 args를 전달하면 아무런 output없이 프로그램이 종료된다.\n",
    "\n",
    "(excpetion이 발생하는 데 threadpoolexecutor는 이 exception을 숨기기 때문)"
   ]
  },
  {
   "cell_type": "markdown",
   "metadata": {},
   "source": [
    "## Race condition"
   ]
  },
  {
   "cell_type": "markdown",
   "metadata": {},
   "source": [
    "두 개 이상의 thread가 공유 자원을 사용할 때 잘못된 결과가 발생할 수 있는 상황을 말한다."
   ]
  },
  {
   "cell_type": "markdown",
   "metadata": {},
   "source": [
    "#### 예시\n",
    "\n",
    "초기값이 0인 DB에 thread 실행 시 하나씩 값을 올리려는 프로그램\n",
    "\n",
    "각각의 thread는 DB의 값을 변수에 복사 후에 1을 더한 값을 다시 DB에 write한다."
   ]
  },
  {
   "cell_type": "code",
   "execution_count": 15,
   "metadata": {},
   "outputs": [],
   "source": [
    "class FakeDatabase:\n",
    "    def __init__(self):\n",
    "        self.value = 0\n",
    "\n",
    "    def update(self, name):\n",
    "        logging.info(\"Thread %s: starting update\", name)\n",
    "        local_copy = self.value\n",
    "        local_copy += 1\n",
    "        time.sleep(0.1)\n",
    "        self.value = local_copy\n",
    "        logging.info(\"Thread %s: finishing update\", name)"
   ]
  },
  {
   "cell_type": "code",
   "execution_count": 17,
   "metadata": {},
   "outputs": [
    {
     "name": "stderr",
     "output_type": "stream",
     "text": [
      "INFO:root:Testing update. Starting value is 0.\n",
      "INFO:root:Thread 1: starting update\n",
      "INFO:root:Thread 2: starting update\n",
      "INFO:root:Thread 3: starting update\n",
      "INFO:root:Thread 1: finishing update\n",
      "INFO:root:Thread 2: finishing update\n",
      "INFO:root:Thread 3: finishing update\n",
      "INFO:root:Testing update. Ending value is 1.\n"
     ]
    }
   ],
   "source": [
    "import logging\n",
    "import concurrent.futures\n",
    "import time\n",
    "\n",
    "database = FakeDatabase()\n",
    "logging.info(\"Testing update. Starting value is %d.\", database.value)\n",
    "\n",
    "with concurrent.futures.ThreadPoolExecutor(max_workers=3) as executor:\n",
    "    for index in range(1,4):\n",
    "        executor.submit(database.update, index)\n",
    "\n",
    "logging.info(\"Testing update. Ending value is %d.\", database.value)"
   ]
  },
  {
   "cell_type": "markdown",
   "metadata": {},
   "source": [
    "Ending value가 3이어야 하는데 race condition으로 인해 1이 되었다."
   ]
  },
  {
   "cell_type": "markdown",
   "metadata": {},
   "source": [
    "thread가 CPU를 사용하지 않을 때 context switching이 발생해 다른 thread가 실행된다. 그 시점은 정확히 알 수 없다.\n",
    "\n",
    "이 특성으로 인해 Thread1이 DB에 1을 write하기 전에 Thread2가 먼저 DB의 0인 값을 가져가버리기 때문이다."
   ]
  },
  {
   "cell_type": "markdown",
   "metadata": {},
   "source": [
    "![](thread_1.png)"
   ]
  },
  {
   "cell_type": "markdown",
   "metadata": {},
   "source": [
    "### race conditon 해결방법 1 : Lock"
   ]
  },
  {
   "cell_type": "markdown",
   "metadata": {},
   "source": [
    "공유 자원을 사용중인 스레드가 DB에 value를 write할 때까지 다른 스레드가 접근을 못하게 막을 수 있다. \n",
    "\n",
    "lock은 acquire & release 함수를 통해 사용할 수 있다. "
   ]
  },
  {
   "cell_type": "code",
   "execution_count": 1,
   "metadata": {},
   "outputs": [],
   "source": [
    "class FakeDatabase:\n",
    "    def __init__(self):\n",
    "        self.value = 0\n",
    "        self._lock = threading.Lock() # lock 생성\n",
    "\n",
    "    def locked_update(self, name):\n",
    "        logging.info(\"Thread %s: starting update\", name)\n",
    "        logging.debug(\"Thread %s about to lock\", name)\n",
    "        with self._lock: # with문 활용(acquire, release 자동 적용)\n",
    "            logging.debug(\"Thread %s has lock\", name)\n",
    "            local_copy = self.value\n",
    "            local_copy += 1\n",
    "            time.sleep(0.1)\n",
    "            self.value = local_copy\n",
    "            logging.debug(\"Thread %s about to release lock\", name)\n",
    "        logging.debug(\"Thread %s after release\", name)\n",
    "        logging.info(\"Thread %s: finishing update\", name)"
   ]
  },
  {
   "cell_type": "code",
   "execution_count": 2,
   "metadata": {},
   "outputs": [
    {
     "name": "stderr",
     "output_type": "stream",
     "text": [
      "02:23:44: Testing update. Starting value is 0.\n",
      "02:23:44: Thread 0: starting update\n",
      "02:23:44: Thread 1: starting update\n",
      "02:23:44: Thread 0 about to lock\n",
      "02:23:44: Thread 1 about to lock\n",
      "02:23:44: Thread 0 has lock\n",
      "02:23:45: Thread 0 about to release lock\n",
      "02:23:45: Thread 0 after release\n",
      "02:23:45: Thread 1 has lock\n",
      "02:23:45: Thread 0: finishing update\n",
      "02:23:45: Thread 1 about to release lock\n",
      "02:23:45: Thread 1 after release\n",
      "02:23:45: Thread 1: finishing update\n",
      "02:23:45: Testing update. Ending value is 2.\n"
     ]
    }
   ],
   "source": [
    "import logging\n",
    "import concurrent\n",
    "import time\n",
    "import threading\n",
    "\n",
    "if __name__ == \"__main__\":\n",
    "    database = FakeDatabase()\n",
    "    logging.info(\"Testing update. Starting value is %d.\", database.value)\n",
    "    with concurrent.futures.ThreadPoolExecutor(max_workers=2) as executor:\n",
    "        for index in range(2):\n",
    "            executor.submit(database.locked_update, index)\n",
    "    logging.info(\"Testing update. Ending value is %d.\", database.value)"
   ]
  },
  {
   "cell_type": "markdown",
   "metadata": {},
   "source": [
    "#### Lock의 문제점"
   ]
  },
  {
   "cell_type": "markdown",
   "metadata": {},
   "source": [
    "1. Deadlock - Lock이 release 되지 않아 다른 스레드가 lock을 얻지 못해 무한 대기하는 경우를 주로 말한다.\n",
    "2. lock 사용이 많아질 경우 acquire & release 과정에서 overhead가 발생"
   ]
  },
  {
   "cell_type": "markdown",
   "metadata": {},
   "source": [
    "참고 : RLock은 lock이 release되지 않아도 acquire을 호출할 수 있는 object이다. R : reentrant (다시 들어간다는 뜻)"
   ]
  },
  {
   "cell_type": "markdown",
   "metadata": {},
   "source": [
    "### race conditon 해결방법 2 : Queue를 활용한 해결 ( Queue는 thread-safe하다. )"
   ]
  },
  {
   "cell_type": "markdown",
   "metadata": {},
   "source": [
    "참고 : https://realpython.com/intro-to-python-threading/#producer-consumer-using-queue"
   ]
  }
 ],
 "metadata": {
  "kernelspec": {
   "display_name": "Python 3",
   "language": "python",
   "name": "python3"
  },
  "language_info": {
   "codemirror_mode": {
    "name": "ipython",
    "version": 3
   },
   "file_extension": ".py",
   "mimetype": "text/x-python",
   "name": "python",
   "nbconvert_exporter": "python",
   "pygments_lexer": "ipython3",
   "version": "3.6.7"
  }
 },
 "nbformat": 4,
 "nbformat_minor": 4
}
