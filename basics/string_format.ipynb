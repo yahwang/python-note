{
 "cells": [
  {
   "cell_type": "markdown",
   "metadata": {},
   "source": [
    "### % 활용"
   ]
  },
  {
   "cell_type": "code",
   "execution_count": 22,
   "metadata": {},
   "outputs": [
    {
     "data": {
      "text/plain": [
       "'hello world!'"
      ]
     },
     "execution_count": 22,
     "metadata": {},
     "output_type": "execute_result"
    }
   ],
   "source": [
    "'%s %s' %('hello', 'world!') "
   ]
  },
  {
   "cell_type": "code",
   "execution_count": 24,
   "metadata": {},
   "outputs": [
    {
     "name": "stdout",
     "output_type": "stream",
     "text": [
      "hello world!\n",
      "-----------------------\n",
      "kevin : 100 | john : 90\n"
     ]
    }
   ],
   "source": [
    "# dict 활용 ( )안에 key 값 입력 -> 출력은 해당 value 값\n",
    "print('%(x)s %(y)s' % {'x': 'hello', 'y':'world!'})\n",
    "print(\"-----------------------\")\n",
    "students = {'kevin':100, 'john':90}\n",
    "print('kevin : %(kevin)d | john : %(john)d' %students)"
   ]
  },
  {
   "cell_type": "markdown",
   "metadata": {},
   "source": [
    "### format 활용"
   ]
  },
  {
   "cell_type": "code",
   "execution_count": 26,
   "metadata": {},
   "outputs": [
    {
     "data": {
      "text/plain": [
       "'hello world!'"
      ]
     },
     "execution_count": 26,
     "metadata": {},
     "output_type": "execute_result"
    }
   ],
   "source": [
    "'{} {}'.format('hello','world')\n",
    "'{x} {y}'.format(x='hello',y='world!')"
   ]
  },
  {
   "cell_type": "code",
   "execution_count": 29,
   "metadata": {},
   "outputs": [
    {
     "data": {
      "text/plain": [
       "'hello world !!!'"
      ]
     },
     "execution_count": 29,
     "metadata": {},
     "output_type": "execute_result"
    }
   ],
   "source": [
    "# 숫자로 위치 배치 가능(index)\n",
    "'{1} {2} {0}'.format('!!!', 'hello', 'world')\n",
    "# !!! : 0, hello : 1, wordl : 2"
   ]
  },
  {
   "cell_type": "code",
   "execution_count": 31,
   "metadata": {},
   "outputs": [
    {
     "data": {
      "text/plain": [
       "'kevin : 100 | john : 90'"
      ]
     },
     "execution_count": 31,
     "metadata": {},
     "output_type": "execute_result"
    }
   ],
   "source": [
    "# dict 타입을 kwargs로 활용\n",
    "students = {'kevin':100, 'john':90}\n",
    "'kevin : {kevin} | john : {john}'.format(**students)"
   ]
  },
  {
   "cell_type": "markdown",
   "metadata": {},
   "source": [
    "### f-Strings ( formatted string literals)  ( 3.6부터 지원 )\n",
    "    문법이 직관적이고 속도가 매우 빠르다 ( runtime에서 수행된다고 한다 )"
   ]
  },
  {
   "cell_type": "markdown",
   "metadata": {},
   "source": [
    "참고 : https://realpython.com/python-f-strings/  | 속도 비교 :  https://github.com/yahwang/python-note/blob/master/lectures/pycon_code_performance.ipynb"
   ]
  },
  {
   "cell_type": "markdown",
   "metadata": {},
   "source": [
    "#### 변수를 { }안에 바로 넣어서 활용이 가능"
   ]
  },
  {
   "cell_type": "code",
   "execution_count": 32,
   "metadata": {},
   "outputs": [
    {
     "data": {
      "text/plain": [
       "'yahwang : 100'"
      ]
     },
     "execution_count": 32,
     "metadata": {},
     "output_type": "execute_result"
    }
   ],
   "source": [
    "name = 'yahwang'\n",
    "score = 100\n",
    "f'{name} : {score}'"
   ]
  },
  {
   "cell_type": "code",
   "execution_count": 18,
   "metadata": {},
   "outputs": [
    {
     "name": "stdout",
     "output_type": "stream",
     "text": [
      "153.232\n",
      "   153.232\n"
     ]
    }
   ],
   "source": [
    "# 변수:format 방식으로 활용\n",
    "number = 153.231635\n",
    "print( f'{number:.3f}' )\n",
    "\n",
    "# 앞 숫자는 총 자리 수를 의미\n",
    "print( f'{number:10.3f}' ) "
   ]
  },
  {
   "cell_type": "code",
   "execution_count": 78,
   "metadata": {},
   "outputs": [
    {
     "data": {
      "text/plain": [
       "'kevin : 100 | john : 90'"
      ]
     },
     "execution_count": 78,
     "metadata": {},
     "output_type": "execute_result"
    }
   ],
   "source": [
    "# dict 타입 ( key 갑의 '(\")는 f의 \"(')와 달라야 한다.)\n",
    "students = {'kevin':100, 'john':90}\n",
    "f'kevin : {students[\"kevin\"]} | john : {students[\"john\"]}'"
   ]
  },
  {
   "cell_type": "markdown",
   "metadata": {},
   "source": [
    "#### 계산이나 함수로 실행한 결과를 바로 string으로 변환할 수 있다."
   ]
  },
  {
   "cell_type": "code",
   "execution_count": 50,
   "metadata": {},
   "outputs": [
    {
     "data": {
      "text/plain": [
       "'32420'"
      ]
     },
     "execution_count": 50,
     "metadata": {},
     "output_type": "execute_result"
    }
   ],
   "source": [
    "f'{10*3242}'"
   ]
  },
  {
   "cell_type": "code",
   "execution_count": 48,
   "metadata": {},
   "outputs": [
    {
     "name": "stdout",
     "output_type": "stream",
     "text": [
      "YAHWANG\n",
      "YAHWANG\n"
     ]
    }
   ],
   "source": [
    "def to_upper(input):\n",
    "    return input.upper()\n",
    "print( f'{name.upper()}' )\n",
    "print( f'{ to_upper(name) }' ) # 정의한 함수 사용"
   ]
  },
  {
   "cell_type": "markdown",
   "metadata": {},
   "source": [
    "#### multistring 기능"
   ]
  },
  {
   "cell_type": "code",
   "execution_count": 66,
   "metadata": {},
   "outputs": [],
   "source": [
    "msg = (\n",
    "    f'Hello '\n",
    "    f'World '\n",
    "    f'!!!')\n",
    "# ''' ''' 방식은 공백을 모두 인식한다.\n",
    "msg2 = f'''\n",
    "Hello\n",
    "    World\n",
    "        !!!\n",
    "'''"
   ]
  },
  {
   "cell_type": "code",
   "execution_count": 67,
   "metadata": {},
   "outputs": [
    {
     "name": "stdout",
     "output_type": "stream",
     "text": [
      "Hello World !!!\n",
      "\n",
      "Hello\n",
      "    World\n",
      "        !!!\n",
      "\n"
     ]
    }
   ],
   "source": [
    "print(msg)\n",
    "print(msg2)"
   ]
  },
  {
   "cell_type": "code",
   "execution_count": 85,
   "metadata": {},
   "outputs": [
    {
     "name": "stdout",
     "output_type": "stream",
     "text": [
      "{ hello }\n",
      "\" hello world! \"\n"
     ]
    }
   ],
   "source": [
    "print( f'{{ hello }}' ) # { }를 붙여서 여러 번 쓰면 사용 가능\n",
    "print( f'\\\" hello world! \\\"' ) # \\\"로 \" \" 별도 사용 가능"
   ]
  },
  {
   "cell_type": "code",
   "execution_count": null,
   "metadata": {},
   "outputs": [],
   "source": []
  }
 ],
 "metadata": {
  "kernelspec": {
   "display_name": "Python 3",
   "language": "python",
   "name": "python3"
  },
  "language_info": {
   "codemirror_mode": {
    "name": "ipython",
    "version": 3
   },
   "file_extension": ".py",
   "mimetype": "text/x-python",
   "name": "python",
   "nbconvert_exporter": "python",
   "pygments_lexer": "ipython3",
   "version": "3.6.8"
  }
 },
 "nbformat": 4,
 "nbformat_minor": 4
}
