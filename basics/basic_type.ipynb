{
 "cells": [
  {
   "cell_type": "code",
   "execution_count": 1,
   "metadata": {},
   "outputs": [],
   "source": [
    "%load_ext lab_black"
   ]
  },
  {
   "cell_type": "markdown",
   "metadata": {},
   "source": [
    "## 문자열 str"
   ]
  },
  {
   "cell_type": "code",
   "execution_count": 1,
   "metadata": {},
   "outputs": [],
   "source": [
    "a = \"python\""
   ]
  },
  {
   "cell_type": "markdown",
   "metadata": {},
   "source": [
    "#### : 활용"
   ]
  },
  {
   "cell_type": "code",
   "execution_count": 11,
   "metadata": {},
   "outputs": [
    {
     "name": "stdout",
     "output_type": "stream",
     "text": [
      "[1, 2, 3, 4, 5, 6]\n",
      "[1, 3, 5]\n"
     ]
    }
   ],
   "source": [
    "print(a[:])\n",
    "print(a[::2])"
   ]
  },
  {
   "cell_type": "markdown",
   "metadata": {},
   "source": [
    "#### replace"
   ]
  },
  {
   "cell_type": "code",
   "execution_count": 10,
   "metadata": {},
   "outputs": [
    {
     "data": {
      "text/plain": [
       "'I am a girl'"
      ]
     },
     "execution_count": 10,
     "metadata": {},
     "output_type": "execute_result"
    }
   ],
   "source": [
    "\"I am a boy\".replace(\"boy\", \"girl\")"
   ]
  },
  {
   "cell_type": "markdown",
   "metadata": {},
   "source": [
    "#### 특정 문자 제거 : strip ( lstrip - 왼쪽만 rstrip - 오른쪽만)"
   ]
  },
  {
   "cell_type": "code",
   "execution_count": 13,
   "metadata": {},
   "outputs": [
    {
     "data": {
      "text/plain": [
       "'python'"
      ]
     },
     "execution_count": 13,
     "metadata": {},
     "output_type": "execute_result"
    }
   ],
   "source": [
    "\"  python  \".strip()  # 공백 제거\n",
    "\"00python000\".strip(\"0\")  # 특정 문자 제거"
   ]
  },
  {
   "cell_type": "markdown",
   "metadata": {},
   "source": [
    "#### join"
   ]
  },
  {
   "cell_type": "code",
   "execution_count": 14,
   "metadata": {},
   "outputs": [
    {
     "data": {
      "text/plain": [
       "'apple/banana/berry'"
      ]
     },
     "execution_count": 14,
     "metadata": {},
     "output_type": "execute_result"
    }
   ],
   "source": [
    "'/'.join(['apple','banana','berry'])"
   ]
  },
  {
   "cell_type": "code",
   "execution_count": 15,
   "metadata": {},
   "outputs": [
    {
     "data": {
      "text/plain": [
       "'p y t h o n'"
      ]
     },
     "execution_count": 15,
     "metadata": {},
     "output_type": "execute_result"
    }
   ],
   "source": [
    "' '.join('python') # 글자 하나하나"
   ]
  },
  {
   "cell_type": "markdown",
   "metadata": {},
   "source": [
    "#### split"
   ]
  },
  {
   "cell_type": "code",
   "execution_count": 18,
   "metadata": {},
   "outputs": [
    {
     "data": {
      "text/plain": [
       "['coke', 'sprite', 'fanta']"
      ]
     },
     "execution_count": 18,
     "metadata": {},
     "output_type": "execute_result"
    }
   ],
   "source": [
    "'coke sprite fanta'.split()"
   ]
  },
  {
   "cell_type": "code",
   "execution_count": 19,
   "metadata": {},
   "outputs": [
    {
     "data": {
      "text/plain": [
       "['apple', 'banana', 'berry']"
      ]
     },
     "execution_count": 19,
     "metadata": {},
     "output_type": "execute_result"
    }
   ],
   "source": [
    "'apple/banana/berry'.split('/') "
   ]
  },
  {
   "cell_type": "markdown",
   "metadata": {},
   "source": [
    "문자열의 시작과 끝 확인 : startwith(str) & endswith(str)\n",
    "\n",
    "문자열 count : str.count(특정문자)     /     count(str, [start], [end] )\n",
    "\n",
    "특정문자 찾기 : str.find(특정문자)\n",
    "\n",
    "대소문자 : lower() & upper()\n",
    "\n",
    "문자열 가운데로 모으기(길이 늘려서) : str.center( length )  e.g.) '***'.center(5)  = > ' *** '\n",
    "\n",
    "문자열 왼쪽(오른쪽) 정렬 후 특정 길이에 맞게 : str.ljust( length )  |  str.rjust( length )\n",
    "\n"
   ]
  },
  {
   "cell_type": "markdown",
   "metadata": {},
   "source": [
    "## List 타입"
   ]
  },
  {
   "cell_type": "code",
   "execution_count": 6,
   "metadata": {},
   "outputs": [],
   "source": [
    "a=[1,2,3]\n",
    "b=[4,5,6]"
   ]
  },
  {
   "cell_type": "code",
   "execution_count": 7,
   "metadata": {},
   "outputs": [
    {
     "name": "stdout",
     "output_type": "stream",
     "text": [
      "[1, 2, 3, 4, 5, 6] ([1, 2, 3], [4, 5, 6])\n"
     ]
    }
   ],
   "source": [
    "print( a+b, (a,b) )"
   ]
  },
  {
   "cell_type": "markdown",
   "metadata": {},
   "source": [
    "#### 원소 추가 append / extend(List) / insert(index, )"
   ]
  },
  {
   "cell_type": "code",
   "execution_count": null,
   "metadata": {},
   "outputs": [],
   "source": [
    "my_list = [1,2,3]\n",
    "\n",
    "my_list.append(5) => [1,2,3,5]\n",
    "\n",
    "my_list.append([4,5]) => [1,2,3,[4,5]]\n",
    "\n",
    "my_list.extend([4,5,6]) => [1,2,3,4,5,6]\n",
    "\n",
    "my_list += [4,5,6] => extend와 같은 결과\n",
    "\n",
    "my_list.insert(1,10) => [1,10,2,3]\n",
    "\n",
    "# 리스트를 각각 끼워넣기\n",
    "\n",
    "my_list[1:2] = [5,6] => [1,5,6,3] 첫번째 자리에 2 대신 5,6 추가"
   ]
  },
  {
   "cell_type": "markdown",
   "metadata": {},
   "source": [
    "#### 원소 삭제 del / remove(특정값) / pop - return 값 존재"
   ]
  },
  {
   "cell_type": "code",
   "execution_count": 1,
   "metadata": {},
   "outputs": [],
   "source": [
    "my_list = [1,2,3]\n",
    "\n",
    "del mylist[0:2] => [3]\n",
    "\n",
    "my_list.remove(2) => [1,3]\n",
    "\n",
    "my_list.pop() => 마지막 값 삭제 return 값은 3 // [1,2]가 남는다.\n",
    "\n",
    "my_list.pop(2) # index 기반 삭제"
   ]
  },
  {
   "cell_type": "markdown",
   "metadata": {},
   "source": [
    "List B = List A    =>  B는 A의 id값을 가진다. ( A의 변화 B에도 바로 적용 )"
   ]
  },
  {
   "cell_type": "code",
   "execution_count": 52,
   "metadata": {},
   "outputs": [
    {
     "name": "stdout",
     "output_type": "stream",
     "text": [
      "[10, 2, 3] [10, 2, 3]\n"
     ]
    }
   ],
   "source": [
    "c = a\n",
    "\n",
    "a[0]=10\n",
    "\n",
    "print(a, c) # 값이 함께 변함"
   ]
  },
  {
   "cell_type": "markdown",
   "metadata": {},
   "source": [
    "### shallow copy vs deep copy"
   ]
  },
  {
   "cell_type": "markdown",
   "metadata": {},
   "source": [
    "참고 : https://suwoni-codelab.com/python%20%EA%B8%B0%EB%B3%B8/2018/03/02/Python-Basic-copy/"
   ]
  },
  {
   "cell_type": "markdown",
   "metadata": {},
   "source": [
    "#### shallow copy"
   ]
  },
  {
   "cell_type": "markdown",
   "metadata": {},
   "source": [
    "List C = List A[:] 또는 List C = List A.copy()\n",
    "\n",
    "( reference 값만 가져와 새로운 리스트를 만든다. )"
   ]
  },
  {
   "cell_type": "code",
   "execution_count": 3,
   "metadata": {},
   "outputs": [
    {
     "name": "stdout",
     "output_type": "stream",
     "text": [
      "[100, 2, 3] [1, 2, 3] [1, 2, 3]\n"
     ]
    }
   ],
   "source": [
    "a=[1,2,3]\n",
    "\n",
    "c = a.copy()\n",
    "d = a[:]\n",
    "\n",
    "a[0]=100 # = 은 새로운 객체를 할당한다.\n",
    "\n",
    "print(a, c, d) # 값이 함께 변하지 않음"
   ]
  },
  {
   "cell_type": "markdown",
   "metadata": {},
   "source": [
    "mutable object의 경우, 함수로 값을 변경할 때 문제가 생긴다. 함께 값이 변한다. ( reference가 유지되기 때문 )"
   ]
  },
  {
   "cell_type": "code",
   "execution_count": 2,
   "metadata": {},
   "outputs": [
    {
     "name": "stdout",
     "output_type": "stream",
     "text": [
      "[[1, 2], [3, 4, 5]] [[1, 2], [3, 4, 5]]\n"
     ]
    }
   ],
   "source": [
    "a = [[1,2],[3,4]]\n",
    "b = a.copy()\n",
    "\n",
    "a[1].append(5)\n",
    "\n",
    "print(a, b)"
   ]
  },
  {
   "cell_type": "markdown",
   "metadata": {},
   "source": [
    "#### deepcopy는 내부에 객체들까지 모두 새롭게 생성한다."
   ]
  },
  {
   "cell_type": "code",
   "execution_count": 63,
   "metadata": {},
   "outputs": [],
   "source": [
    "from copy import deepcopy\n",
    "e = deepcopy(a)"
   ]
  },
  {
   "cell_type": "markdown",
   "metadata": {},
   "source": [
    "#### 리스트 생성 예제"
   ]
  },
  {
   "cell_type": "code",
   "execution_count": 8,
   "metadata": {},
   "outputs": [
    {
     "data": {
      "text/plain": [
       "[1, 2, 3, 4, 5, 6, 7, 8, 9]"
      ]
     },
     "execution_count": 8,
     "metadata": {},
     "output_type": "execute_result"
    }
   ],
   "source": [
    "[ i for i in range(1,10)]"
   ]
  },
  {
   "cell_type": "code",
   "execution_count": 15,
   "metadata": {},
   "outputs": [
    {
     "data": {
      "text/plain": [
       "[2, 4, 6, 8]"
      ]
     },
     "execution_count": 15,
     "metadata": {},
     "output_type": "execute_result"
    }
   ],
   "source": [
    "[ i for i in range(1,10) if i %2 == 0]"
   ]
  },
  {
   "cell_type": "code",
   "execution_count": 22,
   "metadata": {},
   "outputs": [
    {
     "data": {
      "text/plain": [
       "['P', 2, 'P', 4, 'P', 6, 'P', 8, 'P']"
      ]
     },
     "execution_count": 22,
     "metadata": {},
     "output_type": "execute_result"
    }
   ],
   "source": [
    "[ i if i %2 == 0 else 'P' for i in range(1,10) ] # else를 쓸려면 if와 함께 앞으로"
   ]
  },
  {
   "cell_type": "code",
   "execution_count": 14,
   "metadata": {},
   "outputs": [
    {
     "data": {
      "text/plain": [
       "[(1, 5), (1, 6), (1, 7), (2, 5), (2, 6), (2, 7), (3, 5), (3, 6), (3, 7)]"
      ]
     },
     "execution_count": 14,
     "metadata": {},
     "output_type": "execute_result"
    }
   ],
   "source": [
    "[ (x,y) for x in range(1,4) for y in range(5,8)]"
   ]
  },
  {
   "cell_type": "markdown",
   "metadata": {},
   "source": [
    "## Tuple"
   ]
  },
  {
   "cell_type": "markdown",
   "metadata": {},
   "source": [
    "List보다 메모리를 덜 차지, 수정 불가"
   ]
  },
  {
   "cell_type": "markdown",
   "metadata": {},
   "source": [
    "#### namedtuple"
   ]
  },
  {
   "cell_type": "code",
   "execution_count": 3,
   "metadata": {},
   "outputs": [],
   "source": [
    "from collections import namedtuple\n",
    "# struct_bookinfo라는 주제로 내용이 author과 title이다. / bookinfo라는 클래스를 만드는 것과 비슷\n",
    "bookinfo = namedtuple('struct_bookinfo', ['author','title'])\n",
    "# mybook이라는 인스턴스를 생성하는 것과 비슷하다.\n",
    "mybook = bookinfo('hwang','python')"
   ]
  },
  {
   "cell_type": "code",
   "execution_count": 5,
   "metadata": {},
   "outputs": [
    {
     "data": {
      "text/plain": [
       "struct_bookinfo(author='hwang', title='python')"
      ]
     },
     "execution_count": 5,
     "metadata": {},
     "output_type": "execute_result"
    }
   ],
   "source": [
    "mybook"
   ]
  },
  {
   "cell_type": "code",
   "execution_count": 6,
   "metadata": {},
   "outputs": [
    {
     "data": {
      "text/plain": [
       "('hwang', 'python')"
      ]
     },
     "execution_count": 6,
     "metadata": {},
     "output_type": "execute_result"
    }
   ],
   "source": [
    "mybook.author, mybook.title"
   ]
  },
  {
   "cell_type": "markdown",
   "metadata": {},
   "source": [
    "## Dictionary 타입"
   ]
  },
  {
   "cell_type": "markdown",
   "metadata": {},
   "source": [
    "key값은 숫자, 문자열, 튜플만 가능 (List는 불가)"
   ]
  },
  {
   "cell_type": "code",
   "execution_count": 10,
   "metadata": {},
   "outputs": [],
   "source": [
    "my_dict = {'title':'python', 'name':'hwang'}\n",
    "           \n",
    "my_dict = { i:j for i,j in enumerate(['aaa', 'bbb']) } # list comprehension 처럼"
   ]
  },
  {
   "cell_type": "markdown",
   "metadata": {},
   "source": [
    "### key & value 접근"
   ]
  },
  {
   "cell_type": "code",
   "execution_count": null,
   "metadata": {},
   "outputs": [],
   "source": [
    "# 각각 접근\n",
    "my_dict['title'] =>     'python'\n",
    "my_dict.get('title') =>  'python'\n",
    "my_dict.get('title', 0) => key값이 존재하면 value를 가져오고 없으면 0을 가져온다.\n",
    "\n",
    "# 한 번에 접근\n",
    "my_dict.items() : key와 value 함께\n",
    "my_dict.keys()\n",
    "my_dict.values()"
   ]
  },
  {
   "cell_type": "code",
   "execution_count": 21,
   "metadata": {},
   "outputs": [],
   "source": [
    "## my_dict과 my_dict2를 합치는 방법 ( update보다 약간 빠름 )\n",
    "{ **my_dict, **my_dict2 }  # 3.6 부터 가능\n",
    "\n",
    "# List를 Dict로 변환\n",
    "my_list = [[1,'a'],[2,'b'],[3,'c']]\n",
    "my_dict = dict(my_list)\n",
    "\n",
    "# Dict를 List로 변환\n",
    "list(my_dict.items())"
   ]
  },
  {
   "cell_type": "markdown",
   "metadata": {},
   "source": [
    "### key&value 추가 / 삭제"
   ]
  },
  {
   "cell_type": "code",
   "execution_count": null,
   "metadata": {},
   "outputs": [],
   "source": [
    "# 새로 추가(기존 key의 value 변경 X)\n",
    "my_dict.setdefault('key', value)\n",
    "\n",
    "# 새로 추가(기존 key의 value 변경 O)\n",
    "my_dict[key] = value\n",
    "\n",
    "# 여러 개 추가(기존 key의 value 변경 O)\n",
    "my_dict.update({'key':value, ...})\n",
    "\n",
    "## update 응용\n",
    "for my_key in my_keys.keys():\n",
    "    if my_key not in my_dict:\n",
    "        my_dict.update({my_key:test[my_key])\n",
    "                        \n",
    "# 삭제\n",
    "my_dict.pop(key)"
   ]
  },
  {
   "cell_type": "markdown",
   "metadata": {},
   "source": [
    "### defaultdict : default value를 자동으로 지정한다."
   ]
  },
  {
   "cell_type": "code",
   "execution_count": 22,
   "metadata": {},
   "outputs": [
    {
     "data": {
      "text/plain": [
       "0"
      ]
     },
     "execution_count": 22,
     "metadata": {},
     "output_type": "execute_result"
    }
   ],
   "source": [
    "from collections import defaultdict\n",
    "\n",
    "# 0으로 default값 지정  int, float\n",
    "my_dict = defaultdict(int)\n",
    "\n",
    "# 특정 값으로 default 지정\n",
    "my_dict = defaultdict(lambda : 0)\n",
    "\n",
    "# value값이 없어도 default값과 함께 자동으로 dict에 추가\n",
    "my_dict['key1']\n",
    "my_dict['key2']"
   ]
  },
  {
   "cell_type": "markdown",
   "metadata": {},
   "source": [
    "## Set 타입"
   ]
  },
  {
   "cell_type": "markdown",
   "metadata": {},
   "source": [
    "집합 // 순서가 없고 중복되는 요소도 없다.\n",
    "\n",
    "**장점 : hash table로 구현되기 때문에 검색속도가 리스트보다 빠르다. O(1)**"
   ]
  },
  {
   "cell_type": "markdown",
   "metadata": {},
   "source": [
    "#### 리스트와 검색 속도 비교"
   ]
  },
  {
   "cell_type": "code",
   "execution_count": 1,
   "metadata": {},
   "outputs": [],
   "source": [
    "test_range = range(10000000)\n",
    "test_set = set(test_range)\n",
    "test_array = list(test_range)"
   ]
  },
  {
   "cell_type": "code",
   "execution_count": 2,
   "metadata": {},
   "outputs": [
    {
     "name": "stdout",
     "output_type": "stream",
     "text": [
      "66.2 ns ± 30.8 ns per loop (mean ± std. dev. of 7 runs, 10000000 loops each)\n"
     ]
    }
   ],
   "source": [
    "%timeit 10000 in test_set"
   ]
  },
  {
   "cell_type": "code",
   "execution_count": 3,
   "metadata": {},
   "outputs": [
    {
     "name": "stdout",
     "output_type": "stream",
     "text": [
      "162 µs ± 30.6 µs per loop (mean ± std. dev. of 7 runs, 10000 loops each)\n"
     ]
    }
   ],
   "source": [
    "%timeit 10000 in test_array"
   ]
  },
  {
   "cell_type": "markdown",
   "metadata": {},
   "source": [
    "### 기호 활용"
   ]
  },
  {
   "cell_type": "code",
   "execution_count": null,
   "metadata": {},
   "outputs": [],
   "source": [
    "A = {1,2,3,4} B = {3,4,5,6}\n",
    "\n",
    "교집합 A&B => {3,4}\n",
    "\n",
    "합집합 A|B => {1,2,3,4,5,6}\n",
    "\n",
    "차집합 A-B => {1,2}\n",
    "\n",
    "교집합의 여집합 A^B => {1,2,5,6}"
   ]
  },
  {
   "cell_type": "code",
   "execution_count": null,
   "metadata": {},
   "outputs": [],
   "source": [
    "A = {1,2,3,4} B = {3,4,5,6}"
   ]
  },
  {
   "cell_type": "markdown",
   "metadata": {},
   "source": [
    "### 함수 활용 (리스트, 튜플 활용 가능)"
   ]
  },
  {
   "cell_type": "code",
   "execution_count": null,
   "metadata": {},
   "outputs": [],
   "source": [
    "# 교집합 \n",
    "A.intersection([3,4,5]) => {3,4}\n",
    "# 합집합 \n",
    "A.union([3,4,5]) => {1,2,3,4,5}\n",
    "# 차집합 \n",
    "A.difference([4]) => {1,2,3}\n",
    "# 교집합의 여집합 \n",
    "A.symmetric_differencsource(B) => {1,2,5,6}\n",
    "# 부분집합 확인 \n",
    "{2,3}.issubset(A) => True"
   ]
  },
  {
   "cell_type": "markdown",
   "metadata": {},
   "source": [
    "### 추가 / 삭제 / 초기화"
   ]
  },
  {
   "cell_type": "code",
   "execution_count": null,
   "metadata": {},
   "outputs": [],
   "source": [
    "card = {3,5,8}\n",
    "\n",
    "# 추가\n",
    "card.add(10)\n",
    "\n",
    "# input set과 union한 값을 원래 변수에 바로 반영\n",
    "card.update({8,10,15})\n",
    "\n",
    "# remove는 value가 없는 경우 Error / discard는 Error 무시\n",
    "card.remove(12) => Error   <=>  card.discard(12)     \n",
    "\n",
    "card.clear() => 모두 삭제"
   ]
  }
 ],
 "metadata": {
  "kernelspec": {
   "display_name": "Python 3",
   "language": "python",
   "name": "python3"
  },
  "language_info": {
   "codemirror_mode": {
    "name": "ipython",
    "version": 3
   },
   "file_extension": ".py",
   "mimetype": "text/x-python",
   "name": "python",
   "nbconvert_exporter": "python",
   "pygments_lexer": "ipython3",
   "version": "3.7.5"
  }
 },
 "nbformat": 4,
 "nbformat_minor": 4
}
