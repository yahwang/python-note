{
 "cells": [
  {
   "cell_type": "markdown",
   "metadata": {},
   "source": [
    "#### * 클래스는 객체를 생성해 내는 템플릿이고, 객체는 클래스를 이용해 만들어진 변수와 함수를 가진 메모리 공간이다."
   ]
  },
  {
   "cell_type": "markdown",
   "metadata": {},
   "source": [
    "#### * 클래스에 정의한 함수는 단순 함수이며, 객체에서 사용될 때 method로 사용된다."
   ]
  },
  {
   "cell_type": "code",
   "execution_count": 34,
   "metadata": {},
   "outputs": [
    {
     "name": "stdout",
     "output_type": "stream",
     "text": [
      "<class 'function'>\n",
      "<class 'method'>\n"
     ]
    }
   ],
   "source": [
    "class B:\n",
    "    def test(self):\n",
    "        print(\"OK\")\n",
    "\n",
    "print( type(B.test) ) # 클래스의 정의한 함수\n",
    "b=B()\n",
    "print( type(b.test) ) # 인스턴스 생성 후 함수"
   ]
  },
  {
   "cell_type": "markdown",
   "metadata": {},
   "source": [
    "#### * 파이썬에서 인스턴스는 자신만의 새 변수를 만들어 사용할 수 있다."
   ]
  },
  {
   "cell_type": "code",
   "execution_count": 70,
   "metadata": {},
   "outputs": [
    {
     "name": "stdout",
     "output_type": "stream",
     "text": [
      "bbb\n"
     ]
    }
   ],
   "source": [
    "class C:\n",
    "    def __init__(self, a):\n",
    "        self.a = a\n",
    "\n",
    "c = C('aaa')\n",
    "c.b = 'bbb' # c 인스턴스만의 새로운 멤버변수 선언\n",
    "print(c.b)"
   ]
  },
  {
   "cell_type": "markdown",
   "metadata": {},
   "source": [
    "#### * __ init__(self) : Constructor | __ del__(self) : Deconstructor"
   ]
  },
  {
   "cell_type": "markdown",
   "metadata": {},
   "source": [
    "### Polymorphism 다형성"
   ]
  },
  {
   "cell_type": "markdown",
   "metadata": {},
   "source": [
    "#### * method overriding\n",
    "    함수의 이름과 parameter가 모두 같은 경우"
   ]
  },
  {
   "cell_type": "markdown",
   "metadata": {},
   "source": [
    "#### * method overloading\n",
    "    Python은 기본적으로 overloading을 지원하지 않는다. 그 이유는 dynamic typing 때문이다."
   ]
  },
  {
   "cell_type": "code",
   "execution_count": 165,
   "metadata": {},
   "outputs": [
    {
     "ename": "SyntaxError",
     "evalue": "invalid syntax (<ipython-input-165-ec89ffe3a14e>, line 1)",
     "output_type": "error",
     "traceback": [
      "\u001b[0;36m  File \u001b[0;32m\"<ipython-input-165-ec89ffe3a14e>\"\u001b[0;36m, line \u001b[0;32m1\u001b[0m\n\u001b[0;31m    def func1(int a, int b)\u001b[0m\n\u001b[0m                  ^\u001b[0m\n\u001b[0;31mSyntaxError\u001b[0m\u001b[0;31m:\u001b[0m invalid syntax\n"
     ]
    }
   ],
   "source": [
    "def func1(int a, int b)\n",
    "def func1(int a, float b) # 타입만 다른 경우, overloading이 되어야 한다.\n",
    "\n",
    "def func1(a, b) # python은 타입 선언이 없다."
   ]
  },
  {
   "cell_type": "markdown",
   "metadata": {},
   "source": [
    "asterisk와 조건을 통한 약간의 트릭을 통해 해결할 수 있다."
   ]
  },
  {
   "cell_type": "code",
   "execution_count": 166,
   "metadata": {},
   "outputs": [],
   "source": [
    "# class의 args는 args[1]부터 데이터가 들어간다.\n",
    "class Test():\n",
    "    def func1(*args):\n",
    "        if len(args) == 2: # parameter가 1개\n",
    "            return \n",
    "        elif len(args) == 3: # parameter가 2개\n",
    "            return "
   ]
  },
  {
   "cell_type": "markdown",
   "metadata": {},
   "source": [
    "**연산자 오버로딩**"
   ]
  },
  {
   "cell_type": "code",
   "execution_count": 170,
   "metadata": {},
   "outputs": [
    {
     "ename": "IndentationError",
     "evalue": "expected an indented block (<ipython-input-170-6180e3f4967b>, line 4)",
     "output_type": "error",
     "traceback": [
      "\u001b[0;36m  File \u001b[0;32m\"<ipython-input-170-6180e3f4967b>\"\u001b[0;36m, line \u001b[0;32m4\u001b[0m\n\u001b[0;31m    def __add__(self):  # inst1 + ?\u001b[0m\n\u001b[0m      ^\u001b[0m\n\u001b[0;31mIndentationError\u001b[0m\u001b[0;31m:\u001b[0m expected an indented block\n"
     ]
    }
   ],
   "source": [
    "inst1 = Class()\n",
    "\n",
    "def __str__(self):  # print(inst1)\n",
    "def __add__(self):  # inst1 + ?\n",
    "def __radd__(self): # ? + inst1  # 인스턴스가 오른쪽에 위치할 경우를 설정\n",
    "def __sub__(self):  # -\n",
    "def __mul__(self):  # *\n",
    "def __truediv__(self):  # /\n",
    "def __floordiv__(self):  # //"
   ]
  },
  {
   "cell_type": "code",
   "execution_count": 173,
   "metadata": {},
   "outputs": [
    {
     "name": "stdout",
     "output_type": "stream",
     "text": [
      "Hello\n"
     ]
    }
   ],
   "source": [
    "class Test:\n",
    "    def __str__(self):\n",
    "        return \"Hello\"\n",
    "test = Test()\n",
    "print(test)"
   ]
  },
  {
   "cell_type": "markdown",
   "metadata": {},
   "source": [
    "### classmethod & staticmethod"
   ]
  },
  {
   "cell_type": "markdown",
   "metadata": {},
   "source": [
    "    classmethod는 instanced의 method와 방식이 같지만 class를 args로 자동으로 받는다. ( self처럼 cls는 약속처럼 쓰이는 듯 )\n",
    "\n",
    "    staticmethod는 자동으로 받는 args는 없다. ( 전역함수로 사용하기에 유용 )"
   ]
  },
  {
   "cell_type": "code",
   "execution_count": 44,
   "metadata": {},
   "outputs": [],
   "source": [
    "class A:\n",
    "    account = 0 # 클래스 멤버 (인스턴스로도 접근 가능)\n",
    "    \n",
    "    def __init__(self, input):\n",
    "        self.money = input\n",
    "        A.account += 1\n",
    "    \n",
    "    @classmethod # 클래스 method 선언\n",
    "    def all_account(cls): # cls가 self같은 역할\n",
    "        print(cls.account)\n",
    "        \n",
    "    @staticmethod # static method 선언\n",
    "    def total():\n",
    "        print(\"total account\", A.account)"
   ]
  },
  {
   "cell_type": "code",
   "execution_count": 43,
   "metadata": {},
   "outputs": [
    {
     "name": "stdout",
     "output_type": "stream",
     "text": [
      "0\n",
      "total account 0\n"
     ]
    }
   ],
   "source": [
    "A.all_account() # A클래스가 cls parameter로 들어간다.\n",
    "A.total() # 클래스 내부에 접근하려면 클래스 변수를 사용해야 한다."
   ]
  },
  {
   "cell_type": "markdown",
   "metadata": {},
   "source": [
    "### 추상 클래스"
   ]
  },
  {
   "cell_type": "markdown",
   "metadata": {},
   "source": [
    "    metaclass와 abstract method를 지정해야 한다.\n",
    "    \n",
    "    abstract method를 오버라이딩하여 정의를 반드시 해야 한다."
   ]
  },
  {
   "cell_type": "code",
   "execution_count": 159,
   "metadata": {},
   "outputs": [],
   "source": [
    "import abc # abc = abstract base class의 약자\n",
    "\n",
    "class Room(object, metaclass=abc.ABCMeta):  # metaclass\n",
    "    @abc.abstractmethod   # abstract method 정의\n",
    "    def openDoor(self):\n",
    "        pass # pass로 남겨둔다."
   ]
  },
  {
   "cell_type": "code",
   "execution_count": 160,
   "metadata": {},
   "outputs": [],
   "source": [
    "class DiningRoom(Room):\n",
    "    def __init__(self):\n",
    "        print(\"eat dinner\")"
   ]
  },
  {
   "cell_type": "code",
   "execution_count": 161,
   "metadata": {},
   "outputs": [
    {
     "ename": "TypeError",
     "evalue": "Can't instantiate abstract class DiningRoom with abstract methods openDoor",
     "output_type": "error",
     "traceback": [
      "\u001b[0;31m---------------------------------------------------------------------------\u001b[0m",
      "\u001b[0;31mTypeError\u001b[0m                                 Traceback (most recent call last)",
      "\u001b[0;32m<ipython-input-161-2318fdbfd62a>\u001b[0m in \u001b[0;36m<module>\u001b[0;34m()\u001b[0m\n\u001b[1;32m      1\u001b[0m \u001b[0;31m# abstract method를 정의하지 않은 경우, 에러 발생\u001b[0m\u001b[0;34m\u001b[0m\u001b[0;34m\u001b[0m\u001b[0m\n\u001b[0;32m----> 2\u001b[0;31m \u001b[0mmy_dining\u001b[0m \u001b[0;34m=\u001b[0m \u001b[0mDiningRoom\u001b[0m\u001b[0;34m(\u001b[0m\u001b[0;34m)\u001b[0m\u001b[0;34m\u001b[0m\u001b[0m\n\u001b[0m",
      "\u001b[0;31mTypeError\u001b[0m: Can't instantiate abstract class DiningRoom with abstract methods openDoor"
     ]
    }
   ],
   "source": [
    "# abstract method를 정의하지 않은 경우, 에러 발생\n",
    "my_dining = DiningRoom()"
   ]
  },
  {
   "cell_type": "code",
   "execution_count": 162,
   "metadata": {},
   "outputs": [],
   "source": [
    "class BedRoom(Room):\n",
    "    def openDoor(self):\n",
    "        print(\"Light On\")"
   ]
  },
  {
   "cell_type": "code",
   "execution_count": 163,
   "metadata": {},
   "outputs": [
    {
     "name": "stdout",
     "output_type": "stream",
     "text": [
      "Light On\n"
     ]
    }
   ],
   "source": [
    "my_room = BedRoom()\n",
    "my_room.openDoor()"
   ]
  },
  {
   "cell_type": "markdown",
   "metadata": {},
   "source": [
    "**python2에서 사용방법**"
   ]
  },
  {
   "cell_type": "code",
   "execution_count": 145,
   "metadata": {},
   "outputs": [],
   "source": [
    "import abc\n",
    "\n",
    "class Room(object):\n",
    "    __metaclass__=abc.ABCMeta\n",
    "    @abc.abstractmethod\n",
    "    def openDoor(self):\n",
    "        pass"
   ]
  }
 ],
 "metadata": {
  "kernelspec": {
   "display_name": "Python 3",
   "language": "python",
   "name": "python3"
  },
  "language_info": {
   "codemirror_mode": {
    "name": "ipython",
    "version": 3
   },
   "file_extension": ".py",
   "mimetype": "text/x-python",
   "name": "python",
   "nbconvert_exporter": "python",
   "pygments_lexer": "ipython3",
   "version": "3.7.0"
  }
 },
 "nbformat": 4,
 "nbformat_minor": 2
}
