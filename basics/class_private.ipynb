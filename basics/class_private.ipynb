{
 "cells": [
  {
   "cell_type": "markdown",
   "metadata": {},
   "source": [
    "### 캡슐화에서 정보은닉 ( public, private )"
   ]
  },
  {
   "cell_type": "markdown",
   "metadata": {},
   "source": [
    "파이썬은 기본적으로 정보은닉 기능을 제공하지는 않지만 비슷한 기능을 제공한다.\n",
    "\n",
    "_ 변수 : protected, __ 변수 : private -> 일종의 약속이다."
   ]
  },
  {
   "cell_type": "markdown",
   "metadata": {},
   "source": [
    "#### 1. 변수에 __ 사용하기"
   ]
  },
  {
   "cell_type": "markdown",
   "metadata": {},
   "source": [
    "__ 를 사용한 변수는 _클래스명__변수명이라는 새로운 이름의 변수로 바뀌어서 활용된다. ( 아래 __ dict __ 확인 )"
   ]
  },
  {
   "cell_type": "code",
   "execution_count": 22,
   "metadata": {},
   "outputs": [],
   "source": [
    "class Wallet:\n",
    "    def __init__(self, money):\n",
    "        self.__money = money\n",
    "    def get_money(self):\n",
    "        return self.__money\n",
    "    def buy(self, price):\n",
    "        self.__money-=price\n",
    "    def sell(self, price):\n",
    "        self.__money+=price\n",
    "\n",
    "my_wallet = Wallet(100000)"
   ]
  },
  {
   "cell_type": "code",
   "execution_count": 23,
   "metadata": {},
   "outputs": [
    {
     "name": "stdout",
     "output_type": "stream",
     "text": [
      "100000\n",
      "70000\n"
     ]
    }
   ],
   "source": [
    "print( my_wallet.get_money() )\n",
    "my_wallet.buy(30000)\n",
    "print( my_wallet.get_money() )"
   ]
  },
  {
   "cell_type": "code",
   "execution_count": 24,
   "metadata": {},
   "outputs": [
    {
     "ename": "AttributeError",
     "evalue": "'Wallet' object has no attribute '__money'",
     "output_type": "error",
     "traceback": [
      "\u001b[0;31m---------------------------------------------------------------------------\u001b[0m",
      "\u001b[0;31mAttributeError\u001b[0m                            Traceback (most recent call last)",
      "\u001b[0;32m<ipython-input-24-73ce4182c816>\u001b[0m in \u001b[0;36m<module>\u001b[0;34m()\u001b[0m\n\u001b[0;32m----> 1\u001b[0;31m \u001b[0mmy_wallet\u001b[0m\u001b[0;34m.\u001b[0m\u001b[0m__money\u001b[0m\u001b[0;34m\u001b[0m\u001b[0m\n\u001b[0m",
      "\u001b[0;31mAttributeError\u001b[0m: 'Wallet' object has no attribute '__money'"
     ]
    }
   ],
   "source": [
    "my_wallet.__money"
   ]
  },
  {
   "cell_type": "code",
   "execution_count": 25,
   "metadata": {},
   "outputs": [
    {
     "data": {
      "text/plain": [
       "70000"
      ]
     },
     "execution_count": 25,
     "metadata": {},
     "output_type": "execute_result"
    }
   ],
   "source": [
    "# money를 바꾸려고 했지만 변하지 않는다.\n",
    "my_wallet.__money = 100000000\n",
    "my_wallet.get_money()"
   ]
  },
  {
   "cell_type": "code",
   "execution_count": 26,
   "metadata": {},
   "outputs": [
    {
     "data": {
      "text/plain": [
       "{'_Wallet__money': 70000, '__money': 100000000}"
      ]
     },
     "execution_count": 26,
     "metadata": {},
     "output_type": "execute_result"
    }
   ],
   "source": [
    "# __money는 my_wallet 인스턴스에 새로운 변수로 생성될 뿐이다.\n",
    "# 실제 사용되는 __money는 _Wallet__money 변수이다.\n",
    "my_wallet.__dict__"
   ]
  },
  {
   "cell_type": "markdown",
   "metadata": {},
   "source": [
    "#### 2. @property 활용하기"
   ]
  },
  {
   "cell_type": "markdown",
   "metadata": {},
   "source": [
    "변수 선언 후에는 클래스 내에서 변수에 _ 를 붙여서 사용해야 한다."
   ]
  },
  {
   "cell_type": "code",
   "execution_count": 1,
   "metadata": {},
   "outputs": [],
   "source": [
    "class Wallet:\n",
    "    def __init__(self, money):\n",
    "        self.money = money\n",
    "    @property  # - get 함수와 같은 역할\n",
    "    def money(self):\n",
    "        print('get_value')\n",
    "        return self._money\n",
    "    @money.setter  # 변수명.setter - set 함수와 같은 역할\n",
    "    def money(self, new):\n",
    "        print('set_value')\n",
    "        self._money=new"
   ]
  },
  {
   "cell_type": "code",
   "execution_count": 2,
   "metadata": {},
   "outputs": [
    {
     "name": "stdout",
     "output_type": "stream",
     "text": [
      "set_value\n"
     ]
    }
   ],
   "source": [
    "my_wallet = Wallet(1000)"
   ]
  },
  {
   "cell_type": "code",
   "execution_count": 3,
   "metadata": {},
   "outputs": [
    {
     "name": "stdout",
     "output_type": "stream",
     "text": [
      "get_value\n",
      "1000\n"
     ]
    }
   ],
   "source": [
    "print(my_wallet.money)  # 실제로는 get 함수와 같이 실행된다."
   ]
  },
  {
   "cell_type": "code",
   "execution_count": 4,
   "metadata": {},
   "outputs": [
    {
     "name": "stdout",
     "output_type": "stream",
     "text": [
      "set_value\n",
      "get_value\n",
      "100000\n"
     ]
    }
   ],
   "source": [
    "my_wallet.money = 100000  # 실제로는 set 함수와 같이 실행된다.\n",
    "print(my_wallet.money)"
   ]
  },
  {
   "cell_type": "markdown",
   "metadata": {},
   "source": [
    "_변수명으로 직접 접근할 경우는 막을 수 없다."
   ]
  },
  {
   "cell_type": "code",
   "execution_count": 5,
   "metadata": {},
   "outputs": [
    {
     "name": "stdout",
     "output_type": "stream",
     "text": [
      "{'_money': 100000}\n",
      "get_value\n",
      "5000\n"
     ]
    }
   ],
   "source": [
    "print( my_wallet.__dict__ )\n",
    "my_wallet._money = 5000\n",
    "print(my_wallet.money)"
   ]
  },
  {
   "cell_type": "markdown",
   "metadata": {},
   "source": [
    "#### 3. __와 property 혼합하여 사용"
   ]
  },
  {
   "cell_type": "markdown",
   "metadata": {},
   "source": [
    "**일반적인 property와 결합**  - 변수명을 함수 이름으로 바로 사용"
   ]
  },
  {
   "cell_type": "code",
   "execution_count": 139,
   "metadata": {},
   "outputs": [],
   "source": [
    "class Wallet:\n",
    "    def __init__(self, money):\n",
    "        self.__money = money\n",
    "    \n",
    "    @property\n",
    "    def money(self):\n",
    "        print('get_value')\n",
    "        return self.__money\n",
    "    @money.setter\n",
    "    def money(self, new):\n",
    "        print('set_value')\n",
    "        self.__money = new\n",
    "\n",
    "my_wallet = Wallet(2200)"
   ]
  },
  {
   "cell_type": "code",
   "execution_count": 140,
   "metadata": {},
   "outputs": [
    {
     "data": {
      "text/plain": [
       "{'_Wallet__money': 2200}"
      ]
     },
     "execution_count": 140,
     "metadata": {},
     "output_type": "execute_result"
    }
   ],
   "source": [
    "my_wallet.__dict__"
   ]
  },
  {
   "cell_type": "markdown",
   "metadata": {},
   "source": [
    "**property를 마지막에 선언**  - 새로 정의한 함수를 get, set 방식으로 연결"
   ]
  },
  {
   "cell_type": "code",
   "execution_count": 6,
   "metadata": {},
   "outputs": [],
   "source": [
    "class Wallet:\n",
    "    def __init__(self, money):\n",
    "        self.__money = money  \n",
    "    \n",
    "    def get_money(self):\n",
    "        print('get_value')\n",
    "        return self.__money\n",
    "    \n",
    "    def set_money(self, new):\n",
    "        print('set_value')\n",
    "        self.__money = new\n",
    "    \n",
    "    money = property(get_money, set_money)  # get함수와 set함수를 property로 연결\n",
    "\n",
    "my_wallet = Wallet(3000)"
   ]
  },
  {
   "cell_type": "code",
   "execution_count": 7,
   "metadata": {},
   "outputs": [
    {
     "name": "stdout",
     "output_type": "stream",
     "text": [
      "get_value\n"
     ]
    },
    {
     "data": {
      "text/plain": [
       "3000"
      ]
     },
     "execution_count": 7,
     "metadata": {},
     "output_type": "execute_result"
    }
   ],
   "source": [
    "my_wallet.money"
   ]
  },
  {
   "cell_type": "code",
   "execution_count": 8,
   "metadata": {},
   "outputs": [
    {
     "name": "stdout",
     "output_type": "stream",
     "text": [
      "set_value\n"
     ]
    }
   ],
   "source": [
    "my_wallet.money = 99999"
   ]
  },
  {
   "cell_type": "code",
   "execution_count": 9,
   "metadata": {},
   "outputs": [
    {
     "data": {
      "text/plain": [
       "{'_Wallet__money': 99999}"
      ]
     },
     "execution_count": 9,
     "metadata": {},
     "output_type": "execute_result"
    }
   ],
   "source": [
    "my_wallet.__dict__"
   ]
  }
 ],
 "metadata": {
  "kernelspec": {
   "display_name": "Python 3",
   "language": "python",
   "name": "python3"
  },
  "language_info": {
   "codemirror_mode": {
    "name": "ipython",
    "version": 3
   },
   "file_extension": ".py",
   "mimetype": "text/x-python",
   "name": "python",
   "nbconvert_exporter": "python",
   "pygments_lexer": "ipython3",
   "version": "3.6.8"
  }
 },
 "nbformat": 4,
 "nbformat_minor": 4
}
